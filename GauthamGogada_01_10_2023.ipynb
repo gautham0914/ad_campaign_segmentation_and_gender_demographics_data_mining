{
  "nbformat": 4,
  "nbformat_minor": 0,
  "metadata": {
    "colab": {
      "provenance": []
    },
    "kernelspec": {
      "name": "python3",
      "display_name": "Python 3"
    },
    "language_info": {
      "name": "python"
    }
  },
  "cells": [
    {
      "cell_type": "markdown",
      "source": [
        "# Problem statement 1\n",
        "## The ads24x7 is a Digital Marketing company which has now got seed funding of $10 Million. They are expanding their wings in Marketing Analytics. They collected data from their Marketing Intelligence team and now wants you (their newly appointed data analyst) to segment type of ads based on the features provided. Use Clustering procedure to segment ads into homogeneous groups.\n",
        "\n",
        "### The following three features are commonly used in digital marketing:\n",
        "\n",
        "### CPM = (Total Campaign Spend / Number of Impressions) * 1,000. Note that the Total Campaign Spend refers to the 'Spend' Column in the dataset and the Number of Impressions refers to the 'Impressions' Column in the dataset.\n",
        "\n",
        "### CPC = Total Cost (spend) / Number of Clicks.  Note that the Total Cost (spend) refers to the 'Spend' Column in the dataset and the Number of Clicks refers to the 'Clicks' Column in the dataset.\n",
        "\n",
        "### CTR = Total Measured Clicks / Total Measured Ad Impressions x 100. Note that the Total Measured Clicks refers to the 'Clicks' Column in the dataset and the Total Measured Ad Impressions refers to the 'Impressions' Column in the dataset."
      ],
      "metadata": {
        "id": "rTGJZkulsCFn"
      }
    },
    {
      "cell_type": "markdown",
      "source": [
        "## Question 1: Clustering: Read the data and perform basic analysis such as printing a few rows (head and tail), info, data summary, null values duplicate values"
      ],
      "metadata": {
        "id": "cfH6bJXz0gaK"
      }
    },
    {
      "cell_type": "code",
      "source": [
        "import numpy as np\n",
        "import pandas as pd\n",
        "import matplotlib.pyplot as plt\n",
        "import seaborn as sns\n",
        "from scipy.cluster.hierarchy import dendrogram, linkage\n",
        "from sklearn.metrics import silhouette_score\n",
        "from sklearn.preprocessing import StandardScaler\n",
        "from sklearn.cluster import KMeans\n",
        "\n",
        "path = \"/content/Clustering Clean Ads_Data-2.xlsx\"\n",
        "df = pd.read_excel(path)"
      ],
      "metadata": {
        "id": "IbsRQKHvsepc"
      },
      "execution_count": null,
      "outputs": []
    },
    {
      "cell_type": "markdown",
      "source": [
        "###The data is successfully read, now lets print first few rows and last few rows to check the dataset is read correctly"
      ],
      "metadata": {
        "id": "twvCxjuUvVtt"
      }
    },
    {
      "cell_type": "code",
      "source": [
        "df.head(5)"
      ],
      "metadata": {
        "colab": {
          "base_uri": "https://localhost:8080/",
          "height": 244
        },
        "id": "gs5xX6fkvq-d",
        "outputId": "d62b509e-7233-4634-cf1a-4880283141b9"
      },
      "execution_count": null,
      "outputs": [
        {
          "output_type": "execute_result",
          "data": {
            "text/plain": [
              "     Timestamp InventoryType  Ad - Length  Ad- Width  Ad Size   Ad Type  \\\n",
              "0  2020-9-2-17       Format1          300        250    75000  Inter222   \n",
              "1  2020-9-2-10       Format1          300        250    75000  Inter227   \n",
              "2  2020-9-1-22       Format1          300        250    75000  Inter222   \n",
              "3  2020-9-3-20       Format1          300        250    75000  Inter228   \n",
              "4  2020-9-4-15       Format1          300        250    75000  Inter217   \n",
              "\n",
              "  Platform Device Type   Format  Available_Impressions  Matched_Queries  \\\n",
              "0    Video     Desktop  Display                   1806              325   \n",
              "1      App      Mobile    Video                   1780              285   \n",
              "2    Video     Desktop  Display                   2727              356   \n",
              "3    Video      Mobile    Video                   2430              497   \n",
              "4      Web     Desktop    Video                   1218              242   \n",
              "\n",
              "   Impressions  Clicks  Spend   Fee  Revenue     CTR  CPM  CPC  \n",
              "0          323       1    0.0  0.35      0.0  0.0031  0.0  0.0  \n",
              "1          285       1    0.0  0.35      0.0  0.0035  0.0  0.0  \n",
              "2          355       1    0.0  0.35      0.0  0.0028  0.0  0.0  \n",
              "3          495       1    0.0  0.35      0.0  0.0020  0.0  0.0  \n",
              "4          242       1    0.0  0.35      0.0  0.0041  0.0  0.0  "
            ],
            "text/html": [
              "\n",
              "  <div id=\"df-a53b2978-372f-431b-892f-acedd8fddf76\" class=\"colab-df-container\">\n",
              "    <div>\n",
              "<style scoped>\n",
              "    .dataframe tbody tr th:only-of-type {\n",
              "        vertical-align: middle;\n",
              "    }\n",
              "\n",
              "    .dataframe tbody tr th {\n",
              "        vertical-align: top;\n",
              "    }\n",
              "\n",
              "    .dataframe thead th {\n",
              "        text-align: right;\n",
              "    }\n",
              "</style>\n",
              "<table border=\"1\" class=\"dataframe\">\n",
              "  <thead>\n",
              "    <tr style=\"text-align: right;\">\n",
              "      <th></th>\n",
              "      <th>Timestamp</th>\n",
              "      <th>InventoryType</th>\n",
              "      <th>Ad - Length</th>\n",
              "      <th>Ad- Width</th>\n",
              "      <th>Ad Size</th>\n",
              "      <th>Ad Type</th>\n",
              "      <th>Platform</th>\n",
              "      <th>Device Type</th>\n",
              "      <th>Format</th>\n",
              "      <th>Available_Impressions</th>\n",
              "      <th>Matched_Queries</th>\n",
              "      <th>Impressions</th>\n",
              "      <th>Clicks</th>\n",
              "      <th>Spend</th>\n",
              "      <th>Fee</th>\n",
              "      <th>Revenue</th>\n",
              "      <th>CTR</th>\n",
              "      <th>CPM</th>\n",
              "      <th>CPC</th>\n",
              "    </tr>\n",
              "  </thead>\n",
              "  <tbody>\n",
              "    <tr>\n",
              "      <th>0</th>\n",
              "      <td>2020-9-2-17</td>\n",
              "      <td>Format1</td>\n",
              "      <td>300</td>\n",
              "      <td>250</td>\n",
              "      <td>75000</td>\n",
              "      <td>Inter222</td>\n",
              "      <td>Video</td>\n",
              "      <td>Desktop</td>\n",
              "      <td>Display</td>\n",
              "      <td>1806</td>\n",
              "      <td>325</td>\n",
              "      <td>323</td>\n",
              "      <td>1</td>\n",
              "      <td>0.0</td>\n",
              "      <td>0.35</td>\n",
              "      <td>0.0</td>\n",
              "      <td>0.0031</td>\n",
              "      <td>0.0</td>\n",
              "      <td>0.0</td>\n",
              "    </tr>\n",
              "    <tr>\n",
              "      <th>1</th>\n",
              "      <td>2020-9-2-10</td>\n",
              "      <td>Format1</td>\n",
              "      <td>300</td>\n",
              "      <td>250</td>\n",
              "      <td>75000</td>\n",
              "      <td>Inter227</td>\n",
              "      <td>App</td>\n",
              "      <td>Mobile</td>\n",
              "      <td>Video</td>\n",
              "      <td>1780</td>\n",
              "      <td>285</td>\n",
              "      <td>285</td>\n",
              "      <td>1</td>\n",
              "      <td>0.0</td>\n",
              "      <td>0.35</td>\n",
              "      <td>0.0</td>\n",
              "      <td>0.0035</td>\n",
              "      <td>0.0</td>\n",
              "      <td>0.0</td>\n",
              "    </tr>\n",
              "    <tr>\n",
              "      <th>2</th>\n",
              "      <td>2020-9-1-22</td>\n",
              "      <td>Format1</td>\n",
              "      <td>300</td>\n",
              "      <td>250</td>\n",
              "      <td>75000</td>\n",
              "      <td>Inter222</td>\n",
              "      <td>Video</td>\n",
              "      <td>Desktop</td>\n",
              "      <td>Display</td>\n",
              "      <td>2727</td>\n",
              "      <td>356</td>\n",
              "      <td>355</td>\n",
              "      <td>1</td>\n",
              "      <td>0.0</td>\n",
              "      <td>0.35</td>\n",
              "      <td>0.0</td>\n",
              "      <td>0.0028</td>\n",
              "      <td>0.0</td>\n",
              "      <td>0.0</td>\n",
              "    </tr>\n",
              "    <tr>\n",
              "      <th>3</th>\n",
              "      <td>2020-9-3-20</td>\n",
              "      <td>Format1</td>\n",
              "      <td>300</td>\n",
              "      <td>250</td>\n",
              "      <td>75000</td>\n",
              "      <td>Inter228</td>\n",
              "      <td>Video</td>\n",
              "      <td>Mobile</td>\n",
              "      <td>Video</td>\n",
              "      <td>2430</td>\n",
              "      <td>497</td>\n",
              "      <td>495</td>\n",
              "      <td>1</td>\n",
              "      <td>0.0</td>\n",
              "      <td>0.35</td>\n",
              "      <td>0.0</td>\n",
              "      <td>0.0020</td>\n",
              "      <td>0.0</td>\n",
              "      <td>0.0</td>\n",
              "    </tr>\n",
              "    <tr>\n",
              "      <th>4</th>\n",
              "      <td>2020-9-4-15</td>\n",
              "      <td>Format1</td>\n",
              "      <td>300</td>\n",
              "      <td>250</td>\n",
              "      <td>75000</td>\n",
              "      <td>Inter217</td>\n",
              "      <td>Web</td>\n",
              "      <td>Desktop</td>\n",
              "      <td>Video</td>\n",
              "      <td>1218</td>\n",
              "      <td>242</td>\n",
              "      <td>242</td>\n",
              "      <td>1</td>\n",
              "      <td>0.0</td>\n",
              "      <td>0.35</td>\n",
              "      <td>0.0</td>\n",
              "      <td>0.0041</td>\n",
              "      <td>0.0</td>\n",
              "      <td>0.0</td>\n",
              "    </tr>\n",
              "  </tbody>\n",
              "</table>\n",
              "</div>\n",
              "    <div class=\"colab-df-buttons\">\n",
              "\n",
              "  <div class=\"colab-df-container\">\n",
              "    <button class=\"colab-df-convert\" onclick=\"convertToInteractive('df-a53b2978-372f-431b-892f-acedd8fddf76')\"\n",
              "            title=\"Convert this dataframe to an interactive table.\"\n",
              "            style=\"display:none;\">\n",
              "\n",
              "  <svg xmlns=\"http://www.w3.org/2000/svg\" height=\"24px\" viewBox=\"0 -960 960 960\">\n",
              "    <path d=\"M120-120v-720h720v720H120Zm60-500h600v-160H180v160Zm220 220h160v-160H400v160Zm0 220h160v-160H400v160ZM180-400h160v-160H180v160Zm440 0h160v-160H620v160ZM180-180h160v-160H180v160Zm440 0h160v-160H620v160Z\"/>\n",
              "  </svg>\n",
              "    </button>\n",
              "\n",
              "  <style>\n",
              "    .colab-df-container {\n",
              "      display:flex;\n",
              "      gap: 12px;\n",
              "    }\n",
              "\n",
              "    .colab-df-convert {\n",
              "      background-color: #E8F0FE;\n",
              "      border: none;\n",
              "      border-radius: 50%;\n",
              "      cursor: pointer;\n",
              "      display: none;\n",
              "      fill: #1967D2;\n",
              "      height: 32px;\n",
              "      padding: 0 0 0 0;\n",
              "      width: 32px;\n",
              "    }\n",
              "\n",
              "    .colab-df-convert:hover {\n",
              "      background-color: #E2EBFA;\n",
              "      box-shadow: 0px 1px 2px rgba(60, 64, 67, 0.3), 0px 1px 3px 1px rgba(60, 64, 67, 0.15);\n",
              "      fill: #174EA6;\n",
              "    }\n",
              "\n",
              "    .colab-df-buttons div {\n",
              "      margin-bottom: 4px;\n",
              "    }\n",
              "\n",
              "    [theme=dark] .colab-df-convert {\n",
              "      background-color: #3B4455;\n",
              "      fill: #D2E3FC;\n",
              "    }\n",
              "\n",
              "    [theme=dark] .colab-df-convert:hover {\n",
              "      background-color: #434B5C;\n",
              "      box-shadow: 0px 1px 3px 1px rgba(0, 0, 0, 0.15);\n",
              "      filter: drop-shadow(0px 1px 2px rgba(0, 0, 0, 0.3));\n",
              "      fill: #FFFFFF;\n",
              "    }\n",
              "  </style>\n",
              "\n",
              "    <script>\n",
              "      const buttonEl =\n",
              "        document.querySelector('#df-a53b2978-372f-431b-892f-acedd8fddf76 button.colab-df-convert');\n",
              "      buttonEl.style.display =\n",
              "        google.colab.kernel.accessAllowed ? 'block' : 'none';\n",
              "\n",
              "      async function convertToInteractive(key) {\n",
              "        const element = document.querySelector('#df-a53b2978-372f-431b-892f-acedd8fddf76');\n",
              "        const dataTable =\n",
              "          await google.colab.kernel.invokeFunction('convertToInteractive',\n",
              "                                                    [key], {});\n",
              "        if (!dataTable) return;\n",
              "\n",
              "        const docLinkHtml = 'Like what you see? Visit the ' +\n",
              "          '<a target=\"_blank\" href=https://colab.research.google.com/notebooks/data_table.ipynb>data table notebook</a>'\n",
              "          + ' to learn more about interactive tables.';\n",
              "        element.innerHTML = '';\n",
              "        dataTable['output_type'] = 'display_data';\n",
              "        await google.colab.output.renderOutput(dataTable, element);\n",
              "        const docLink = document.createElement('div');\n",
              "        docLink.innerHTML = docLinkHtml;\n",
              "        element.appendChild(docLink);\n",
              "      }\n",
              "    </script>\n",
              "  </div>\n",
              "\n",
              "\n",
              "<div id=\"df-aab80524-26da-42d8-bfb5-fac520f90e9f\">\n",
              "  <button class=\"colab-df-quickchart\" onclick=\"quickchart('df-aab80524-26da-42d8-bfb5-fac520f90e9f')\"\n",
              "            title=\"Suggest charts.\"\n",
              "            style=\"display:none;\">\n",
              "\n",
              "<svg xmlns=\"http://www.w3.org/2000/svg\" height=\"24px\"viewBox=\"0 0 24 24\"\n",
              "     width=\"24px\">\n",
              "    <g>\n",
              "        <path d=\"M19 3H5c-1.1 0-2 .9-2 2v14c0 1.1.9 2 2 2h14c1.1 0 2-.9 2-2V5c0-1.1-.9-2-2-2zM9 17H7v-7h2v7zm4 0h-2V7h2v10zm4 0h-2v-4h2v4z\"/>\n",
              "    </g>\n",
              "</svg>\n",
              "  </button>\n",
              "\n",
              "<style>\n",
              "  .colab-df-quickchart {\n",
              "      --bg-color: #E8F0FE;\n",
              "      --fill-color: #1967D2;\n",
              "      --hover-bg-color: #E2EBFA;\n",
              "      --hover-fill-color: #174EA6;\n",
              "      --disabled-fill-color: #AAA;\n",
              "      --disabled-bg-color: #DDD;\n",
              "  }\n",
              "\n",
              "  [theme=dark] .colab-df-quickchart {\n",
              "      --bg-color: #3B4455;\n",
              "      --fill-color: #D2E3FC;\n",
              "      --hover-bg-color: #434B5C;\n",
              "      --hover-fill-color: #FFFFFF;\n",
              "      --disabled-bg-color: #3B4455;\n",
              "      --disabled-fill-color: #666;\n",
              "  }\n",
              "\n",
              "  .colab-df-quickchart {\n",
              "    background-color: var(--bg-color);\n",
              "    border: none;\n",
              "    border-radius: 50%;\n",
              "    cursor: pointer;\n",
              "    display: none;\n",
              "    fill: var(--fill-color);\n",
              "    height: 32px;\n",
              "    padding: 0;\n",
              "    width: 32px;\n",
              "  }\n",
              "\n",
              "  .colab-df-quickchart:hover {\n",
              "    background-color: var(--hover-bg-color);\n",
              "    box-shadow: 0 1px 2px rgba(60, 64, 67, 0.3), 0 1px 3px 1px rgba(60, 64, 67, 0.15);\n",
              "    fill: var(--button-hover-fill-color);\n",
              "  }\n",
              "\n",
              "  .colab-df-quickchart-complete:disabled,\n",
              "  .colab-df-quickchart-complete:disabled:hover {\n",
              "    background-color: var(--disabled-bg-color);\n",
              "    fill: var(--disabled-fill-color);\n",
              "    box-shadow: none;\n",
              "  }\n",
              "\n",
              "  .colab-df-spinner {\n",
              "    border: 2px solid var(--fill-color);\n",
              "    border-color: transparent;\n",
              "    border-bottom-color: var(--fill-color);\n",
              "    animation:\n",
              "      spin 1s steps(1) infinite;\n",
              "  }\n",
              "\n",
              "  @keyframes spin {\n",
              "    0% {\n",
              "      border-color: transparent;\n",
              "      border-bottom-color: var(--fill-color);\n",
              "      border-left-color: var(--fill-color);\n",
              "    }\n",
              "    20% {\n",
              "      border-color: transparent;\n",
              "      border-left-color: var(--fill-color);\n",
              "      border-top-color: var(--fill-color);\n",
              "    }\n",
              "    30% {\n",
              "      border-color: transparent;\n",
              "      border-left-color: var(--fill-color);\n",
              "      border-top-color: var(--fill-color);\n",
              "      border-right-color: var(--fill-color);\n",
              "    }\n",
              "    40% {\n",
              "      border-color: transparent;\n",
              "      border-right-color: var(--fill-color);\n",
              "      border-top-color: var(--fill-color);\n",
              "    }\n",
              "    60% {\n",
              "      border-color: transparent;\n",
              "      border-right-color: var(--fill-color);\n",
              "    }\n",
              "    80% {\n",
              "      border-color: transparent;\n",
              "      border-right-color: var(--fill-color);\n",
              "      border-bottom-color: var(--fill-color);\n",
              "    }\n",
              "    90% {\n",
              "      border-color: transparent;\n",
              "      border-bottom-color: var(--fill-color);\n",
              "    }\n",
              "  }\n",
              "</style>\n",
              "\n",
              "  <script>\n",
              "    async function quickchart(key) {\n",
              "      const quickchartButtonEl =\n",
              "        document.querySelector('#' + key + ' button');\n",
              "      quickchartButtonEl.disabled = true;  // To prevent multiple clicks.\n",
              "      quickchartButtonEl.classList.add('colab-df-spinner');\n",
              "      try {\n",
              "        const charts = await google.colab.kernel.invokeFunction(\n",
              "            'suggestCharts', [key], {});\n",
              "      } catch (error) {\n",
              "        console.error('Error during call to suggestCharts:', error);\n",
              "      }\n",
              "      quickchartButtonEl.classList.remove('colab-df-spinner');\n",
              "      quickchartButtonEl.classList.add('colab-df-quickchart-complete');\n",
              "    }\n",
              "    (() => {\n",
              "      let quickchartButtonEl =\n",
              "        document.querySelector('#df-aab80524-26da-42d8-bfb5-fac520f90e9f button');\n",
              "      quickchartButtonEl.style.display =\n",
              "        google.colab.kernel.accessAllowed ? 'block' : 'none';\n",
              "    })();\n",
              "  </script>\n",
              "</div>\n",
              "    </div>\n",
              "  </div>\n"
            ]
          },
          "metadata": {},
          "execution_count": 39
        }
      ]
    },
    {
      "cell_type": "code",
      "source": [
        "df.tail(5)"
      ],
      "metadata": {
        "colab": {
          "base_uri": "https://localhost:8080/",
          "height": 278
        },
        "id": "CUmty17Wv5g8",
        "outputId": "5702fa55-df19-421e-e911-01c22d9fab64"
      },
      "execution_count": null,
      "outputs": [
        {
          "output_type": "execute_result",
          "data": {
            "text/plain": [
              "          Timestamp InventoryType  Ad - Length  Ad- Width  Ad Size   Ad Type  \\\n",
              "23061   2020-9-13-7       Format5          720        300   216000  Inter220   \n",
              "23062   2020-11-2-7       Format5          720        300   216000  Inter224   \n",
              "23063  2020-9-14-22       Format5          720        300   216000  Inter218   \n",
              "23064  2020-11-18-2       Format4          120        600    72000  inter230   \n",
              "23065   2020-9-14-0       Format5          720        300   216000  Inter221   \n",
              "\n",
              "      Platform Device Type Format  Available_Impressions  Matched_Queries  \\\n",
              "23061      Web      Mobile  Video                      1                1   \n",
              "23062      Web     Desktop  Video                      3                2   \n",
              "23063      App      Mobile  Video                      2                1   \n",
              "23064    Video      Mobile  Video                      7                1   \n",
              "23065      App      Mobile  Video                      2                2   \n",
              "\n",
              "       Impressions  Clicks  Spend   Fee  Revenue  CTR  CPM  CPC  \n",
              "23061            1       1   0.07  0.35   0.0455  NaN  NaN  NaN  \n",
              "23062            2       1   0.04  0.35   0.0260  NaN  NaN  NaN  \n",
              "23063            1       1   0.05  0.35   0.0325  NaN  NaN  NaN  \n",
              "23064            1       1   0.07  0.35   0.0455  NaN  NaN  NaN  \n",
              "23065            2       1   0.09  0.35   0.0585  NaN  NaN  NaN  "
            ],
            "text/html": [
              "\n",
              "  <div id=\"df-e930ad19-9254-43e4-a441-f289d0f678e7\" class=\"colab-df-container\">\n",
              "    <div>\n",
              "<style scoped>\n",
              "    .dataframe tbody tr th:only-of-type {\n",
              "        vertical-align: middle;\n",
              "    }\n",
              "\n",
              "    .dataframe tbody tr th {\n",
              "        vertical-align: top;\n",
              "    }\n",
              "\n",
              "    .dataframe thead th {\n",
              "        text-align: right;\n",
              "    }\n",
              "</style>\n",
              "<table border=\"1\" class=\"dataframe\">\n",
              "  <thead>\n",
              "    <tr style=\"text-align: right;\">\n",
              "      <th></th>\n",
              "      <th>Timestamp</th>\n",
              "      <th>InventoryType</th>\n",
              "      <th>Ad - Length</th>\n",
              "      <th>Ad- Width</th>\n",
              "      <th>Ad Size</th>\n",
              "      <th>Ad Type</th>\n",
              "      <th>Platform</th>\n",
              "      <th>Device Type</th>\n",
              "      <th>Format</th>\n",
              "      <th>Available_Impressions</th>\n",
              "      <th>Matched_Queries</th>\n",
              "      <th>Impressions</th>\n",
              "      <th>Clicks</th>\n",
              "      <th>Spend</th>\n",
              "      <th>Fee</th>\n",
              "      <th>Revenue</th>\n",
              "      <th>CTR</th>\n",
              "      <th>CPM</th>\n",
              "      <th>CPC</th>\n",
              "    </tr>\n",
              "  </thead>\n",
              "  <tbody>\n",
              "    <tr>\n",
              "      <th>23061</th>\n",
              "      <td>2020-9-13-7</td>\n",
              "      <td>Format5</td>\n",
              "      <td>720</td>\n",
              "      <td>300</td>\n",
              "      <td>216000</td>\n",
              "      <td>Inter220</td>\n",
              "      <td>Web</td>\n",
              "      <td>Mobile</td>\n",
              "      <td>Video</td>\n",
              "      <td>1</td>\n",
              "      <td>1</td>\n",
              "      <td>1</td>\n",
              "      <td>1</td>\n",
              "      <td>0.07</td>\n",
              "      <td>0.35</td>\n",
              "      <td>0.0455</td>\n",
              "      <td>NaN</td>\n",
              "      <td>NaN</td>\n",
              "      <td>NaN</td>\n",
              "    </tr>\n",
              "    <tr>\n",
              "      <th>23062</th>\n",
              "      <td>2020-11-2-7</td>\n",
              "      <td>Format5</td>\n",
              "      <td>720</td>\n",
              "      <td>300</td>\n",
              "      <td>216000</td>\n",
              "      <td>Inter224</td>\n",
              "      <td>Web</td>\n",
              "      <td>Desktop</td>\n",
              "      <td>Video</td>\n",
              "      <td>3</td>\n",
              "      <td>2</td>\n",
              "      <td>2</td>\n",
              "      <td>1</td>\n",
              "      <td>0.04</td>\n",
              "      <td>0.35</td>\n",
              "      <td>0.0260</td>\n",
              "      <td>NaN</td>\n",
              "      <td>NaN</td>\n",
              "      <td>NaN</td>\n",
              "    </tr>\n",
              "    <tr>\n",
              "      <th>23063</th>\n",
              "      <td>2020-9-14-22</td>\n",
              "      <td>Format5</td>\n",
              "      <td>720</td>\n",
              "      <td>300</td>\n",
              "      <td>216000</td>\n",
              "      <td>Inter218</td>\n",
              "      <td>App</td>\n",
              "      <td>Mobile</td>\n",
              "      <td>Video</td>\n",
              "      <td>2</td>\n",
              "      <td>1</td>\n",
              "      <td>1</td>\n",
              "      <td>1</td>\n",
              "      <td>0.05</td>\n",
              "      <td>0.35</td>\n",
              "      <td>0.0325</td>\n",
              "      <td>NaN</td>\n",
              "      <td>NaN</td>\n",
              "      <td>NaN</td>\n",
              "    </tr>\n",
              "    <tr>\n",
              "      <th>23064</th>\n",
              "      <td>2020-11-18-2</td>\n",
              "      <td>Format4</td>\n",
              "      <td>120</td>\n",
              "      <td>600</td>\n",
              "      <td>72000</td>\n",
              "      <td>inter230</td>\n",
              "      <td>Video</td>\n",
              "      <td>Mobile</td>\n",
              "      <td>Video</td>\n",
              "      <td>7</td>\n",
              "      <td>1</td>\n",
              "      <td>1</td>\n",
              "      <td>1</td>\n",
              "      <td>0.07</td>\n",
              "      <td>0.35</td>\n",
              "      <td>0.0455</td>\n",
              "      <td>NaN</td>\n",
              "      <td>NaN</td>\n",
              "      <td>NaN</td>\n",
              "    </tr>\n",
              "    <tr>\n",
              "      <th>23065</th>\n",
              "      <td>2020-9-14-0</td>\n",
              "      <td>Format5</td>\n",
              "      <td>720</td>\n",
              "      <td>300</td>\n",
              "      <td>216000</td>\n",
              "      <td>Inter221</td>\n",
              "      <td>App</td>\n",
              "      <td>Mobile</td>\n",
              "      <td>Video</td>\n",
              "      <td>2</td>\n",
              "      <td>2</td>\n",
              "      <td>2</td>\n",
              "      <td>1</td>\n",
              "      <td>0.09</td>\n",
              "      <td>0.35</td>\n",
              "      <td>0.0585</td>\n",
              "      <td>NaN</td>\n",
              "      <td>NaN</td>\n",
              "      <td>NaN</td>\n",
              "    </tr>\n",
              "  </tbody>\n",
              "</table>\n",
              "</div>\n",
              "    <div class=\"colab-df-buttons\">\n",
              "\n",
              "  <div class=\"colab-df-container\">\n",
              "    <button class=\"colab-df-convert\" onclick=\"convertToInteractive('df-e930ad19-9254-43e4-a441-f289d0f678e7')\"\n",
              "            title=\"Convert this dataframe to an interactive table.\"\n",
              "            style=\"display:none;\">\n",
              "\n",
              "  <svg xmlns=\"http://www.w3.org/2000/svg\" height=\"24px\" viewBox=\"0 -960 960 960\">\n",
              "    <path d=\"M120-120v-720h720v720H120Zm60-500h600v-160H180v160Zm220 220h160v-160H400v160Zm0 220h160v-160H400v160ZM180-400h160v-160H180v160Zm440 0h160v-160H620v160ZM180-180h160v-160H180v160Zm440 0h160v-160H620v160Z\"/>\n",
              "  </svg>\n",
              "    </button>\n",
              "\n",
              "  <style>\n",
              "    .colab-df-container {\n",
              "      display:flex;\n",
              "      gap: 12px;\n",
              "    }\n",
              "\n",
              "    .colab-df-convert {\n",
              "      background-color: #E8F0FE;\n",
              "      border: none;\n",
              "      border-radius: 50%;\n",
              "      cursor: pointer;\n",
              "      display: none;\n",
              "      fill: #1967D2;\n",
              "      height: 32px;\n",
              "      padding: 0 0 0 0;\n",
              "      width: 32px;\n",
              "    }\n",
              "\n",
              "    .colab-df-convert:hover {\n",
              "      background-color: #E2EBFA;\n",
              "      box-shadow: 0px 1px 2px rgba(60, 64, 67, 0.3), 0px 1px 3px 1px rgba(60, 64, 67, 0.15);\n",
              "      fill: #174EA6;\n",
              "    }\n",
              "\n",
              "    .colab-df-buttons div {\n",
              "      margin-bottom: 4px;\n",
              "    }\n",
              "\n",
              "    [theme=dark] .colab-df-convert {\n",
              "      background-color: #3B4455;\n",
              "      fill: #D2E3FC;\n",
              "    }\n",
              "\n",
              "    [theme=dark] .colab-df-convert:hover {\n",
              "      background-color: #434B5C;\n",
              "      box-shadow: 0px 1px 3px 1px rgba(0, 0, 0, 0.15);\n",
              "      filter: drop-shadow(0px 1px 2px rgba(0, 0, 0, 0.3));\n",
              "      fill: #FFFFFF;\n",
              "    }\n",
              "  </style>\n",
              "\n",
              "    <script>\n",
              "      const buttonEl =\n",
              "        document.querySelector('#df-e930ad19-9254-43e4-a441-f289d0f678e7 button.colab-df-convert');\n",
              "      buttonEl.style.display =\n",
              "        google.colab.kernel.accessAllowed ? 'block' : 'none';\n",
              "\n",
              "      async function convertToInteractive(key) {\n",
              "        const element = document.querySelector('#df-e930ad19-9254-43e4-a441-f289d0f678e7');\n",
              "        const dataTable =\n",
              "          await google.colab.kernel.invokeFunction('convertToInteractive',\n",
              "                                                    [key], {});\n",
              "        if (!dataTable) return;\n",
              "\n",
              "        const docLinkHtml = 'Like what you see? Visit the ' +\n",
              "          '<a target=\"_blank\" href=https://colab.research.google.com/notebooks/data_table.ipynb>data table notebook</a>'\n",
              "          + ' to learn more about interactive tables.';\n",
              "        element.innerHTML = '';\n",
              "        dataTable['output_type'] = 'display_data';\n",
              "        await google.colab.output.renderOutput(dataTable, element);\n",
              "        const docLink = document.createElement('div');\n",
              "        docLink.innerHTML = docLinkHtml;\n",
              "        element.appendChild(docLink);\n",
              "      }\n",
              "    </script>\n",
              "  </div>\n",
              "\n",
              "\n",
              "<div id=\"df-555fd6a6-0e10-4226-b123-73d4ba68164e\">\n",
              "  <button class=\"colab-df-quickchart\" onclick=\"quickchart('df-555fd6a6-0e10-4226-b123-73d4ba68164e')\"\n",
              "            title=\"Suggest charts.\"\n",
              "            style=\"display:none;\">\n",
              "\n",
              "<svg xmlns=\"http://www.w3.org/2000/svg\" height=\"24px\"viewBox=\"0 0 24 24\"\n",
              "     width=\"24px\">\n",
              "    <g>\n",
              "        <path d=\"M19 3H5c-1.1 0-2 .9-2 2v14c0 1.1.9 2 2 2h14c1.1 0 2-.9 2-2V5c0-1.1-.9-2-2-2zM9 17H7v-7h2v7zm4 0h-2V7h2v10zm4 0h-2v-4h2v4z\"/>\n",
              "    </g>\n",
              "</svg>\n",
              "  </button>\n",
              "\n",
              "<style>\n",
              "  .colab-df-quickchart {\n",
              "      --bg-color: #E8F0FE;\n",
              "      --fill-color: #1967D2;\n",
              "      --hover-bg-color: #E2EBFA;\n",
              "      --hover-fill-color: #174EA6;\n",
              "      --disabled-fill-color: #AAA;\n",
              "      --disabled-bg-color: #DDD;\n",
              "  }\n",
              "\n",
              "  [theme=dark] .colab-df-quickchart {\n",
              "      --bg-color: #3B4455;\n",
              "      --fill-color: #D2E3FC;\n",
              "      --hover-bg-color: #434B5C;\n",
              "      --hover-fill-color: #FFFFFF;\n",
              "      --disabled-bg-color: #3B4455;\n",
              "      --disabled-fill-color: #666;\n",
              "  }\n",
              "\n",
              "  .colab-df-quickchart {\n",
              "    background-color: var(--bg-color);\n",
              "    border: none;\n",
              "    border-radius: 50%;\n",
              "    cursor: pointer;\n",
              "    display: none;\n",
              "    fill: var(--fill-color);\n",
              "    height: 32px;\n",
              "    padding: 0;\n",
              "    width: 32px;\n",
              "  }\n",
              "\n",
              "  .colab-df-quickchart:hover {\n",
              "    background-color: var(--hover-bg-color);\n",
              "    box-shadow: 0 1px 2px rgba(60, 64, 67, 0.3), 0 1px 3px 1px rgba(60, 64, 67, 0.15);\n",
              "    fill: var(--button-hover-fill-color);\n",
              "  }\n",
              "\n",
              "  .colab-df-quickchart-complete:disabled,\n",
              "  .colab-df-quickchart-complete:disabled:hover {\n",
              "    background-color: var(--disabled-bg-color);\n",
              "    fill: var(--disabled-fill-color);\n",
              "    box-shadow: none;\n",
              "  }\n",
              "\n",
              "  .colab-df-spinner {\n",
              "    border: 2px solid var(--fill-color);\n",
              "    border-color: transparent;\n",
              "    border-bottom-color: var(--fill-color);\n",
              "    animation:\n",
              "      spin 1s steps(1) infinite;\n",
              "  }\n",
              "\n",
              "  @keyframes spin {\n",
              "    0% {\n",
              "      border-color: transparent;\n",
              "      border-bottom-color: var(--fill-color);\n",
              "      border-left-color: var(--fill-color);\n",
              "    }\n",
              "    20% {\n",
              "      border-color: transparent;\n",
              "      border-left-color: var(--fill-color);\n",
              "      border-top-color: var(--fill-color);\n",
              "    }\n",
              "    30% {\n",
              "      border-color: transparent;\n",
              "      border-left-color: var(--fill-color);\n",
              "      border-top-color: var(--fill-color);\n",
              "      border-right-color: var(--fill-color);\n",
              "    }\n",
              "    40% {\n",
              "      border-color: transparent;\n",
              "      border-right-color: var(--fill-color);\n",
              "      border-top-color: var(--fill-color);\n",
              "    }\n",
              "    60% {\n",
              "      border-color: transparent;\n",
              "      border-right-color: var(--fill-color);\n",
              "    }\n",
              "    80% {\n",
              "      border-color: transparent;\n",
              "      border-right-color: var(--fill-color);\n",
              "      border-bottom-color: var(--fill-color);\n",
              "    }\n",
              "    90% {\n",
              "      border-color: transparent;\n",
              "      border-bottom-color: var(--fill-color);\n",
              "    }\n",
              "  }\n",
              "</style>\n",
              "\n",
              "  <script>\n",
              "    async function quickchart(key) {\n",
              "      const quickchartButtonEl =\n",
              "        document.querySelector('#' + key + ' button');\n",
              "      quickchartButtonEl.disabled = true;  // To prevent multiple clicks.\n",
              "      quickchartButtonEl.classList.add('colab-df-spinner');\n",
              "      try {\n",
              "        const charts = await google.colab.kernel.invokeFunction(\n",
              "            'suggestCharts', [key], {});\n",
              "      } catch (error) {\n",
              "        console.error('Error during call to suggestCharts:', error);\n",
              "      }\n",
              "      quickchartButtonEl.classList.remove('colab-df-spinner');\n",
              "      quickchartButtonEl.classList.add('colab-df-quickchart-complete');\n",
              "    }\n",
              "    (() => {\n",
              "      let quickchartButtonEl =\n",
              "        document.querySelector('#df-555fd6a6-0e10-4226-b123-73d4ba68164e button');\n",
              "      quickchartButtonEl.style.display =\n",
              "        google.colab.kernel.accessAllowed ? 'block' : 'none';\n",
              "    })();\n",
              "  </script>\n",
              "</div>\n",
              "    </div>\n",
              "  </div>\n"
            ]
          },
          "metadata": {},
          "execution_count": 40
        }
      ]
    },
    {
      "cell_type": "markdown",
      "source": [
        "### Let's know more about the data, \"info\" function is used to know the information about the data"
      ],
      "metadata": {
        "id": "dM5NJ1COwBjZ"
      }
    },
    {
      "cell_type": "code",
      "source": [
        "df.info()"
      ],
      "metadata": {
        "colab": {
          "base_uri": "https://localhost:8080/"
        },
        "id": "9ilk_G6qwVZ4",
        "outputId": "f019c75d-437e-4731-dd4c-26503222539e"
      },
      "execution_count": null,
      "outputs": [
        {
          "output_type": "stream",
          "name": "stdout",
          "text": [
            "<class 'pandas.core.frame.DataFrame'>\n",
            "RangeIndex: 23066 entries, 0 to 23065\n",
            "Data columns (total 19 columns):\n",
            " #   Column                 Non-Null Count  Dtype  \n",
            "---  ------                 --------------  -----  \n",
            " 0   Timestamp              23066 non-null  object \n",
            " 1   InventoryType          23066 non-null  object \n",
            " 2   Ad - Length            23066 non-null  int64  \n",
            " 3   Ad- Width              23066 non-null  int64  \n",
            " 4   Ad Size                23066 non-null  int64  \n",
            " 5   Ad Type                23066 non-null  object \n",
            " 6   Platform               23066 non-null  object \n",
            " 7   Device Type            23066 non-null  object \n",
            " 8   Format                 23066 non-null  object \n",
            " 9   Available_Impressions  23066 non-null  int64  \n",
            " 10  Matched_Queries        23066 non-null  int64  \n",
            " 11  Impressions            23066 non-null  int64  \n",
            " 12  Clicks                 23066 non-null  int64  \n",
            " 13  Spend                  23066 non-null  float64\n",
            " 14  Fee                    23066 non-null  float64\n",
            " 15  Revenue                23066 non-null  float64\n",
            " 16  CTR                    18330 non-null  float64\n",
            " 17  CPM                    18330 non-null  float64\n",
            " 18  CPC                    18330 non-null  float64\n",
            "dtypes: float64(6), int64(7), object(6)\n",
            "memory usage: 3.3+ MB\n"
          ]
        }
      ]
    },
    {
      "cell_type": "markdown",
      "source": [
        "### From the information we got from the data, the dataset has 6 float data type, 7 int data type and 6 object data type.\n",
        "### We can also see that the variables CTR, CPM, CPC has missing values or null values"
      ],
      "metadata": {
        "id": "meR_4oVQwvQZ"
      }
    },
    {
      "cell_type": "code",
      "source": [
        "df.describe().T"
      ],
      "metadata": {
        "colab": {
          "base_uri": "https://localhost:8080/",
          "height": 457
        },
        "id": "HLJQYgkhxaPF",
        "outputId": "83c93c8c-5991-4a2a-a6ce-d158d46e3013"
      },
      "execution_count": null,
      "outputs": [
        {
          "output_type": "execute_result",
          "data": {
            "text/plain": [
              "                         count          mean           std         min  \\\n",
              "Ad - Length            23066.0  3.851631e+02  2.336514e+02    120.0000   \n",
              "Ad- Width              23066.0  3.378960e+02  2.030929e+02     70.0000   \n",
              "Ad Size                23066.0  9.667447e+04  6.153833e+04  33600.0000   \n",
              "Available_Impressions  23066.0  2.432044e+06  4.742888e+06      1.0000   \n",
              "Matched_Queries        23066.0  1.295099e+06  2.512970e+06      1.0000   \n",
              "Impressions            23066.0  1.241520e+06  2.429400e+06      1.0000   \n",
              "Clicks                 23066.0  1.067852e+04  1.735341e+04      1.0000   \n",
              "Spend                  23066.0  2.706626e+03  4.067927e+03      0.0000   \n",
              "Fee                    23066.0  3.351231e-01  3.196322e-02      0.2100   \n",
              "Revenue                23066.0  1.924252e+03  3.105238e+03      0.0000   \n",
              "CTR                    18330.0  7.366054e-02  7.515992e-02      0.0001   \n",
              "CPM                    18330.0  7.672045e+00  6.481391e+00      0.0000   \n",
              "CPC                    18330.0  3.510606e-01  3.433338e-01      0.0000   \n",
              "\n",
              "                                25%           50%           75%          max  \n",
              "Ad - Length              120.000000     300.00000  7.200000e+02       728.00  \n",
              "Ad- Width                250.000000     300.00000  6.000000e+02       600.00  \n",
              "Ad Size                72000.000000   72000.00000  8.400000e+04    216000.00  \n",
              "Available_Impressions  33672.250000  483771.00000  2.527712e+06  27592861.00  \n",
              "Matched_Queries        18282.500000  258087.50000  1.180700e+06  14702025.00  \n",
              "Impressions             7990.500000  225290.00000  1.112428e+06  14194774.00  \n",
              "Clicks                   710.000000    4425.00000  1.279375e+04    143049.00  \n",
              "Spend                     85.180000    1425.12500  3.121400e+03     26931.87  \n",
              "Fee                        0.330000       0.35000  3.500000e-01         0.35  \n",
              "Revenue                   55.365375     926.33500  2.091338e+03     21276.18  \n",
              "CTR                        0.002600       0.08255  1.300000e-01         1.00  \n",
              "CPM                        1.710000       7.66000  1.251000e+01        81.56  \n",
              "CPC                        0.090000       0.16000  5.700000e-01         7.26  "
            ],
            "text/html": [
              "\n",
              "  <div id=\"df-eccb94b8-96fb-43ca-aafc-33595db83803\" class=\"colab-df-container\">\n",
              "    <div>\n",
              "<style scoped>\n",
              "    .dataframe tbody tr th:only-of-type {\n",
              "        vertical-align: middle;\n",
              "    }\n",
              "\n",
              "    .dataframe tbody tr th {\n",
              "        vertical-align: top;\n",
              "    }\n",
              "\n",
              "    .dataframe thead th {\n",
              "        text-align: right;\n",
              "    }\n",
              "</style>\n",
              "<table border=\"1\" class=\"dataframe\">\n",
              "  <thead>\n",
              "    <tr style=\"text-align: right;\">\n",
              "      <th></th>\n",
              "      <th>count</th>\n",
              "      <th>mean</th>\n",
              "      <th>std</th>\n",
              "      <th>min</th>\n",
              "      <th>25%</th>\n",
              "      <th>50%</th>\n",
              "      <th>75%</th>\n",
              "      <th>max</th>\n",
              "    </tr>\n",
              "  </thead>\n",
              "  <tbody>\n",
              "    <tr>\n",
              "      <th>Ad - Length</th>\n",
              "      <td>23066.0</td>\n",
              "      <td>3.851631e+02</td>\n",
              "      <td>2.336514e+02</td>\n",
              "      <td>120.0000</td>\n",
              "      <td>120.000000</td>\n",
              "      <td>300.00000</td>\n",
              "      <td>7.200000e+02</td>\n",
              "      <td>728.00</td>\n",
              "    </tr>\n",
              "    <tr>\n",
              "      <th>Ad- Width</th>\n",
              "      <td>23066.0</td>\n",
              "      <td>3.378960e+02</td>\n",
              "      <td>2.030929e+02</td>\n",
              "      <td>70.0000</td>\n",
              "      <td>250.000000</td>\n",
              "      <td>300.00000</td>\n",
              "      <td>6.000000e+02</td>\n",
              "      <td>600.00</td>\n",
              "    </tr>\n",
              "    <tr>\n",
              "      <th>Ad Size</th>\n",
              "      <td>23066.0</td>\n",
              "      <td>9.667447e+04</td>\n",
              "      <td>6.153833e+04</td>\n",
              "      <td>33600.0000</td>\n",
              "      <td>72000.000000</td>\n",
              "      <td>72000.00000</td>\n",
              "      <td>8.400000e+04</td>\n",
              "      <td>216000.00</td>\n",
              "    </tr>\n",
              "    <tr>\n",
              "      <th>Available_Impressions</th>\n",
              "      <td>23066.0</td>\n",
              "      <td>2.432044e+06</td>\n",
              "      <td>4.742888e+06</td>\n",
              "      <td>1.0000</td>\n",
              "      <td>33672.250000</td>\n",
              "      <td>483771.00000</td>\n",
              "      <td>2.527712e+06</td>\n",
              "      <td>27592861.00</td>\n",
              "    </tr>\n",
              "    <tr>\n",
              "      <th>Matched_Queries</th>\n",
              "      <td>23066.0</td>\n",
              "      <td>1.295099e+06</td>\n",
              "      <td>2.512970e+06</td>\n",
              "      <td>1.0000</td>\n",
              "      <td>18282.500000</td>\n",
              "      <td>258087.50000</td>\n",
              "      <td>1.180700e+06</td>\n",
              "      <td>14702025.00</td>\n",
              "    </tr>\n",
              "    <tr>\n",
              "      <th>Impressions</th>\n",
              "      <td>23066.0</td>\n",
              "      <td>1.241520e+06</td>\n",
              "      <td>2.429400e+06</td>\n",
              "      <td>1.0000</td>\n",
              "      <td>7990.500000</td>\n",
              "      <td>225290.00000</td>\n",
              "      <td>1.112428e+06</td>\n",
              "      <td>14194774.00</td>\n",
              "    </tr>\n",
              "    <tr>\n",
              "      <th>Clicks</th>\n",
              "      <td>23066.0</td>\n",
              "      <td>1.067852e+04</td>\n",
              "      <td>1.735341e+04</td>\n",
              "      <td>1.0000</td>\n",
              "      <td>710.000000</td>\n",
              "      <td>4425.00000</td>\n",
              "      <td>1.279375e+04</td>\n",
              "      <td>143049.00</td>\n",
              "    </tr>\n",
              "    <tr>\n",
              "      <th>Spend</th>\n",
              "      <td>23066.0</td>\n",
              "      <td>2.706626e+03</td>\n",
              "      <td>4.067927e+03</td>\n",
              "      <td>0.0000</td>\n",
              "      <td>85.180000</td>\n",
              "      <td>1425.12500</td>\n",
              "      <td>3.121400e+03</td>\n",
              "      <td>26931.87</td>\n",
              "    </tr>\n",
              "    <tr>\n",
              "      <th>Fee</th>\n",
              "      <td>23066.0</td>\n",
              "      <td>3.351231e-01</td>\n",
              "      <td>3.196322e-02</td>\n",
              "      <td>0.2100</td>\n",
              "      <td>0.330000</td>\n",
              "      <td>0.35000</td>\n",
              "      <td>3.500000e-01</td>\n",
              "      <td>0.35</td>\n",
              "    </tr>\n",
              "    <tr>\n",
              "      <th>Revenue</th>\n",
              "      <td>23066.0</td>\n",
              "      <td>1.924252e+03</td>\n",
              "      <td>3.105238e+03</td>\n",
              "      <td>0.0000</td>\n",
              "      <td>55.365375</td>\n",
              "      <td>926.33500</td>\n",
              "      <td>2.091338e+03</td>\n",
              "      <td>21276.18</td>\n",
              "    </tr>\n",
              "    <tr>\n",
              "      <th>CTR</th>\n",
              "      <td>18330.0</td>\n",
              "      <td>7.366054e-02</td>\n",
              "      <td>7.515992e-02</td>\n",
              "      <td>0.0001</td>\n",
              "      <td>0.002600</td>\n",
              "      <td>0.08255</td>\n",
              "      <td>1.300000e-01</td>\n",
              "      <td>1.00</td>\n",
              "    </tr>\n",
              "    <tr>\n",
              "      <th>CPM</th>\n",
              "      <td>18330.0</td>\n",
              "      <td>7.672045e+00</td>\n",
              "      <td>6.481391e+00</td>\n",
              "      <td>0.0000</td>\n",
              "      <td>1.710000</td>\n",
              "      <td>7.66000</td>\n",
              "      <td>1.251000e+01</td>\n",
              "      <td>81.56</td>\n",
              "    </tr>\n",
              "    <tr>\n",
              "      <th>CPC</th>\n",
              "      <td>18330.0</td>\n",
              "      <td>3.510606e-01</td>\n",
              "      <td>3.433338e-01</td>\n",
              "      <td>0.0000</td>\n",
              "      <td>0.090000</td>\n",
              "      <td>0.16000</td>\n",
              "      <td>5.700000e-01</td>\n",
              "      <td>7.26</td>\n",
              "    </tr>\n",
              "  </tbody>\n",
              "</table>\n",
              "</div>\n",
              "    <div class=\"colab-df-buttons\">\n",
              "\n",
              "  <div class=\"colab-df-container\">\n",
              "    <button class=\"colab-df-convert\" onclick=\"convertToInteractive('df-eccb94b8-96fb-43ca-aafc-33595db83803')\"\n",
              "            title=\"Convert this dataframe to an interactive table.\"\n",
              "            style=\"display:none;\">\n",
              "\n",
              "  <svg xmlns=\"http://www.w3.org/2000/svg\" height=\"24px\" viewBox=\"0 -960 960 960\">\n",
              "    <path d=\"M120-120v-720h720v720H120Zm60-500h600v-160H180v160Zm220 220h160v-160H400v160Zm0 220h160v-160H400v160ZM180-400h160v-160H180v160Zm440 0h160v-160H620v160ZM180-180h160v-160H180v160Zm440 0h160v-160H620v160Z\"/>\n",
              "  </svg>\n",
              "    </button>\n",
              "\n",
              "  <style>\n",
              "    .colab-df-container {\n",
              "      display:flex;\n",
              "      gap: 12px;\n",
              "    }\n",
              "\n",
              "    .colab-df-convert {\n",
              "      background-color: #E8F0FE;\n",
              "      border: none;\n",
              "      border-radius: 50%;\n",
              "      cursor: pointer;\n",
              "      display: none;\n",
              "      fill: #1967D2;\n",
              "      height: 32px;\n",
              "      padding: 0 0 0 0;\n",
              "      width: 32px;\n",
              "    }\n",
              "\n",
              "    .colab-df-convert:hover {\n",
              "      background-color: #E2EBFA;\n",
              "      box-shadow: 0px 1px 2px rgba(60, 64, 67, 0.3), 0px 1px 3px 1px rgba(60, 64, 67, 0.15);\n",
              "      fill: #174EA6;\n",
              "    }\n",
              "\n",
              "    .colab-df-buttons div {\n",
              "      margin-bottom: 4px;\n",
              "    }\n",
              "\n",
              "    [theme=dark] .colab-df-convert {\n",
              "      background-color: #3B4455;\n",
              "      fill: #D2E3FC;\n",
              "    }\n",
              "\n",
              "    [theme=dark] .colab-df-convert:hover {\n",
              "      background-color: #434B5C;\n",
              "      box-shadow: 0px 1px 3px 1px rgba(0, 0, 0, 0.15);\n",
              "      filter: drop-shadow(0px 1px 2px rgba(0, 0, 0, 0.3));\n",
              "      fill: #FFFFFF;\n",
              "    }\n",
              "  </style>\n",
              "\n",
              "    <script>\n",
              "      const buttonEl =\n",
              "        document.querySelector('#df-eccb94b8-96fb-43ca-aafc-33595db83803 button.colab-df-convert');\n",
              "      buttonEl.style.display =\n",
              "        google.colab.kernel.accessAllowed ? 'block' : 'none';\n",
              "\n",
              "      async function convertToInteractive(key) {\n",
              "        const element = document.querySelector('#df-eccb94b8-96fb-43ca-aafc-33595db83803');\n",
              "        const dataTable =\n",
              "          await google.colab.kernel.invokeFunction('convertToInteractive',\n",
              "                                                    [key], {});\n",
              "        if (!dataTable) return;\n",
              "\n",
              "        const docLinkHtml = 'Like what you see? Visit the ' +\n",
              "          '<a target=\"_blank\" href=https://colab.research.google.com/notebooks/data_table.ipynb>data table notebook</a>'\n",
              "          + ' to learn more about interactive tables.';\n",
              "        element.innerHTML = '';\n",
              "        dataTable['output_type'] = 'display_data';\n",
              "        await google.colab.output.renderOutput(dataTable, element);\n",
              "        const docLink = document.createElement('div');\n",
              "        docLink.innerHTML = docLinkHtml;\n",
              "        element.appendChild(docLink);\n",
              "      }\n",
              "    </script>\n",
              "  </div>\n",
              "\n",
              "\n",
              "<div id=\"df-034cba57-d22a-4b46-a0ea-09c4afff0ca2\">\n",
              "  <button class=\"colab-df-quickchart\" onclick=\"quickchart('df-034cba57-d22a-4b46-a0ea-09c4afff0ca2')\"\n",
              "            title=\"Suggest charts.\"\n",
              "            style=\"display:none;\">\n",
              "\n",
              "<svg xmlns=\"http://www.w3.org/2000/svg\" height=\"24px\"viewBox=\"0 0 24 24\"\n",
              "     width=\"24px\">\n",
              "    <g>\n",
              "        <path d=\"M19 3H5c-1.1 0-2 .9-2 2v14c0 1.1.9 2 2 2h14c1.1 0 2-.9 2-2V5c0-1.1-.9-2-2-2zM9 17H7v-7h2v7zm4 0h-2V7h2v10zm4 0h-2v-4h2v4z\"/>\n",
              "    </g>\n",
              "</svg>\n",
              "  </button>\n",
              "\n",
              "<style>\n",
              "  .colab-df-quickchart {\n",
              "      --bg-color: #E8F0FE;\n",
              "      --fill-color: #1967D2;\n",
              "      --hover-bg-color: #E2EBFA;\n",
              "      --hover-fill-color: #174EA6;\n",
              "      --disabled-fill-color: #AAA;\n",
              "      --disabled-bg-color: #DDD;\n",
              "  }\n",
              "\n",
              "  [theme=dark] .colab-df-quickchart {\n",
              "      --bg-color: #3B4455;\n",
              "      --fill-color: #D2E3FC;\n",
              "      --hover-bg-color: #434B5C;\n",
              "      --hover-fill-color: #FFFFFF;\n",
              "      --disabled-bg-color: #3B4455;\n",
              "      --disabled-fill-color: #666;\n",
              "  }\n",
              "\n",
              "  .colab-df-quickchart {\n",
              "    background-color: var(--bg-color);\n",
              "    border: none;\n",
              "    border-radius: 50%;\n",
              "    cursor: pointer;\n",
              "    display: none;\n",
              "    fill: var(--fill-color);\n",
              "    height: 32px;\n",
              "    padding: 0;\n",
              "    width: 32px;\n",
              "  }\n",
              "\n",
              "  .colab-df-quickchart:hover {\n",
              "    background-color: var(--hover-bg-color);\n",
              "    box-shadow: 0 1px 2px rgba(60, 64, 67, 0.3), 0 1px 3px 1px rgba(60, 64, 67, 0.15);\n",
              "    fill: var(--button-hover-fill-color);\n",
              "  }\n",
              "\n",
              "  .colab-df-quickchart-complete:disabled,\n",
              "  .colab-df-quickchart-complete:disabled:hover {\n",
              "    background-color: var(--disabled-bg-color);\n",
              "    fill: var(--disabled-fill-color);\n",
              "    box-shadow: none;\n",
              "  }\n",
              "\n",
              "  .colab-df-spinner {\n",
              "    border: 2px solid var(--fill-color);\n",
              "    border-color: transparent;\n",
              "    border-bottom-color: var(--fill-color);\n",
              "    animation:\n",
              "      spin 1s steps(1) infinite;\n",
              "  }\n",
              "\n",
              "  @keyframes spin {\n",
              "    0% {\n",
              "      border-color: transparent;\n",
              "      border-bottom-color: var(--fill-color);\n",
              "      border-left-color: var(--fill-color);\n",
              "    }\n",
              "    20% {\n",
              "      border-color: transparent;\n",
              "      border-left-color: var(--fill-color);\n",
              "      border-top-color: var(--fill-color);\n",
              "    }\n",
              "    30% {\n",
              "      border-color: transparent;\n",
              "      border-left-color: var(--fill-color);\n",
              "      border-top-color: var(--fill-color);\n",
              "      border-right-color: var(--fill-color);\n",
              "    }\n",
              "    40% {\n",
              "      border-color: transparent;\n",
              "      border-right-color: var(--fill-color);\n",
              "      border-top-color: var(--fill-color);\n",
              "    }\n",
              "    60% {\n",
              "      border-color: transparent;\n",
              "      border-right-color: var(--fill-color);\n",
              "    }\n",
              "    80% {\n",
              "      border-color: transparent;\n",
              "      border-right-color: var(--fill-color);\n",
              "      border-bottom-color: var(--fill-color);\n",
              "    }\n",
              "    90% {\n",
              "      border-color: transparent;\n",
              "      border-bottom-color: var(--fill-color);\n",
              "    }\n",
              "  }\n",
              "</style>\n",
              "\n",
              "  <script>\n",
              "    async function quickchart(key) {\n",
              "      const quickchartButtonEl =\n",
              "        document.querySelector('#' + key + ' button');\n",
              "      quickchartButtonEl.disabled = true;  // To prevent multiple clicks.\n",
              "      quickchartButtonEl.classList.add('colab-df-spinner');\n",
              "      try {\n",
              "        const charts = await google.colab.kernel.invokeFunction(\n",
              "            'suggestCharts', [key], {});\n",
              "      } catch (error) {\n",
              "        console.error('Error during call to suggestCharts:', error);\n",
              "      }\n",
              "      quickchartButtonEl.classList.remove('colab-df-spinner');\n",
              "      quickchartButtonEl.classList.add('colab-df-quickchart-complete');\n",
              "    }\n",
              "    (() => {\n",
              "      let quickchartButtonEl =\n",
              "        document.querySelector('#df-034cba57-d22a-4b46-a0ea-09c4afff0ca2 button');\n",
              "      quickchartButtonEl.style.display =\n",
              "        google.colab.kernel.accessAllowed ? 'block' : 'none';\n",
              "    })();\n",
              "  </script>\n",
              "</div>\n",
              "    </div>\n",
              "  </div>\n"
            ]
          },
          "metadata": {},
          "execution_count": 42
        }
      ]
    },
    {
      "cell_type": "markdown",
      "source": [],
      "metadata": {
        "id": "zwpkXkaxyGbK"
      }
    },
    {
      "cell_type": "code",
      "source": [
        "df.isnull().sum()"
      ],
      "metadata": {
        "colab": {
          "base_uri": "https://localhost:8080/"
        },
        "id": "YWPurS25yqSX",
        "outputId": "abcbe2fa-2fb3-41c5-ac22-ac99198b8536"
      },
      "execution_count": null,
      "outputs": [
        {
          "output_type": "execute_result",
          "data": {
            "text/plain": [
              "Timestamp                   0\n",
              "InventoryType               0\n",
              "Ad - Length                 0\n",
              "Ad- Width                   0\n",
              "Ad Size                     0\n",
              "Ad Type                     0\n",
              "Platform                    0\n",
              "Device Type                 0\n",
              "Format                      0\n",
              "Available_Impressions       0\n",
              "Matched_Queries             0\n",
              "Impressions                 0\n",
              "Clicks                      0\n",
              "Spend                       0\n",
              "Fee                         0\n",
              "Revenue                     0\n",
              "CTR                      4736\n",
              "CPM                      4736\n",
              "CPC                      4736\n",
              "dtype: int64"
            ]
          },
          "metadata": {},
          "execution_count": 43
        }
      ]
    },
    {
      "cell_type": "markdown",
      "source": [
        "### We used isnull function to check if there are any null values, and we found out that CTR, CPM, CPC has 4736 null values."
      ],
      "metadata": {
        "id": "cvCPVJQKzTgg"
      }
    },
    {
      "cell_type": "code",
      "source": [
        "df.duplicated().sum()"
      ],
      "metadata": {
        "colab": {
          "base_uri": "https://localhost:8080/"
        },
        "id": "EiCQb8DhzM6n",
        "outputId": "4a75f2f4-1550-4d93-d431-cc257874acf1"
      },
      "execution_count": null,
      "outputs": [
        {
          "output_type": "execute_result",
          "data": {
            "text/plain": [
              "0"
            ]
          },
          "metadata": {},
          "execution_count": 44
        }
      ]
    },
    {
      "cell_type": "markdown",
      "source": [
        "### Duplicated function is used to check for duplicate values, after executing the code we found out that there are no duplicate values in the dataset."
      ],
      "metadata": {
        "id": "2l_AvDwUzm-t"
      }
    },
    {
      "cell_type": "markdown",
      "source": [
        "## Question 2 :- Clustering: Treat missing values in CPC, CTR and CPM using the formula given."
      ],
      "metadata": {
        "id": "JwICbDtI0cad"
      }
    },
    {
      "cell_type": "markdown",
      "source": [
        "One method to treat the missing values is by replacing the missing values with mean.\n",
        "First we calculate the means of the columns CTR, CPC and CPM and later replace the missing values ith the means"
      ],
      "metadata": {
        "id": "z3ZVGfL41rTp"
      }
    },
    {
      "cell_type": "code",
      "source": [
        "# Calculate the mean of CTR, CPC AND CPM\n",
        "cpc_mean = df['CTR'].mean()\n",
        "ctr_mean = df['CPC'].mean()\n",
        "cpm_mean = df['CPM'].mean()\n",
        "df['CTR'].fillna(cpc_mean, inplace=True)\n",
        "df['CPC'].fillna(ctr_mean, inplace=True)\n",
        "df['CPM'].fillna(cpm_mean, inplace=True)\n",
        "# Verify weather missing values are treated\n",
        "print(\"Missing Values After Treatment:\")\n",
        "print(df.isnull().sum())"
      ],
      "metadata": {
        "colab": {
          "base_uri": "https://localhost:8080/"
        },
        "id": "ESZLwdiN1bUs",
        "outputId": "d51e5538-a6b9-470a-f233-fcdf7d3cce64"
      },
      "execution_count": null,
      "outputs": [
        {
          "output_type": "stream",
          "name": "stdout",
          "text": [
            "Missing Values After Treatment:\n",
            "Timestamp                0\n",
            "InventoryType            0\n",
            "Ad - Length              0\n",
            "Ad- Width                0\n",
            "Ad Size                  0\n",
            "Ad Type                  0\n",
            "Platform                 0\n",
            "Device Type              0\n",
            "Format                   0\n",
            "Available_Impressions    0\n",
            "Matched_Queries          0\n",
            "Impressions              0\n",
            "Clicks                   0\n",
            "Spend                    0\n",
            "Fee                      0\n",
            "Revenue                  0\n",
            "CTR                      0\n",
            "CPM                      0\n",
            "CPC                      0\n",
            "dtype: int64\n"
          ]
        }
      ]
    },
    {
      "cell_type": "markdown",
      "source": [
        "### All the missing values are treated successfully. clearly CTR, CPC AND Cpm has no missing values now."
      ],
      "metadata": {
        "id": "Drsvi6rl3EdS"
      }
    },
    {
      "cell_type": "markdown",
      "source": [
        "## Question 3: Check if there are any outliers. Do you think treating outliers is necessary for K-Means clustering? Based on your judgement decide whether to treat outliers and if yes, which method to employ. (As an analyst your judgement may be different from another analyst)"
      ],
      "metadata": {
        "id": "knID3Qvr3p3O"
      }
    },
    {
      "cell_type": "markdown",
      "source": [
        "### Dealing with outliers in the dataset is an important step in data preprocessing, especially when you use K-Means clustering. Outliers can significantly affect the performance of K-Means, as they can disturb the cluster centroids and lead to less meaningful cluster assignments. However, treat outliers or not depends on\n",
        "### 1) nature of your data and your specific goals.\n",
        "\n",
        "### 2)Domain Knowledge: Your domain expertise plays a crucial role. Sometimes, outliers are valid data points that should not be removed.\n",
        "\n",
        "### 3)Clustering Goals: Think about what you want to achieve with your clusters. If outliers don't align with the cluster structure you're interested in, they may be worth treating.\n",
        "\n",
        "### 4)K-Means Sensitivity: K-Means is sensitive to outliers as it minimizes the sum of squared distances. Outliers can disproportionately influence cluster centroids\n"
      ],
      "metadata": {
        "id": "jsgTsAye7_Yt"
      }
    },
    {
      "cell_type": "code",
      "source": [
        "# Check if there are any outliers in the CPM, CPC, and CTR columns\n",
        "sns.boxplot(data=df[['CPM', 'CPC', 'CTR']])\n",
        "plt.title(\"Boxplots of CPM, CPC, and CTR\")\n",
        "plt.show()\n",
        "\n",
        "# Detect and handle outliers in the CPM, CPC, and CTR columns\n",
        "def handle_outliers(data, column):\n",
        "    Q1 = data[column].quantile(0.25)\n",
        "    Q3 = data[column].quantile(0.75)\n",
        "    IQR = Q3 - Q1\n",
        "    lower_bound = Q1 - 1.5 * IQR\n",
        "    upper_bound = Q3 + 1.5 * IQR\n",
        "    data[column] = np.where(data[column] < lower_bound, lower_bound, data[column])\n",
        "    data[column] = np.where(data[column] > upper_bound, upper_bound, data[column])\n",
        "\n",
        "handle_outliers(df, 'CPM')\n",
        "handle_outliers(df, 'CPC')\n",
        "handle_outliers(df, 'CTR')\n",
        "\n",
        "# Re-check if outliers have been treated\n",
        "sns.boxplot(data=df[['CPM', 'CPC', 'CTR']])\n",
        "plt.title(\"Boxplots of CPM, CPC, and CTR after outlier treatment\")\n",
        "plt.show()\n",
        "\n",
        "# Now you can proceed with K-Means clustering or any other analysis with the cleaned and treated data.\n"
      ],
      "metadata": {
        "id": "mIGQmDlYWdHs",
        "colab": {
          "base_uri": "https://localhost:8080/",
          "height": 887
        },
        "outputId": "6bac1c26-9340-45ee-9ef4-cebcb6386b41"
      },
      "execution_count": null,
      "outputs": [
        {
          "output_type": "display_data",
          "data": {
            "text/plain": [
              "<Figure size 640x480 with 1 Axes>"
            ],
            "image/png": "[encoded data removed]"
          },
          "metadata": {}
        },
        {
          "output_type": "display_data",
          "data": {
            "text/plain": [
              "<Figure size 640x480 with 1 Axes>"
            ],
            "image/png": "[encoded data removed]"
          },
          "metadata": {}
        }
      ]
    },
    {
      "cell_type": "markdown",
      "source": [
        "### Outliers can be treated in different methods,\n",
        "### 1) using IOR(Interquartile Range)\n",
        "### 2) Z- Score method"
      ],
      "metadata": {
        "id": "NquR7QqR84_6"
      }
    },
    {
      "cell_type": "markdown",
      "source": [
        "first let's check if the dataset has the outliers or not."
      ],
      "metadata": {
        "id": "IfkVCltPCNJT"
      }
    },
    {
      "cell_type": "code",
      "source": [
        "# Define a function to handle outliers using IQR method\n",
        "def handle_outliers_iqr(data, column):\n",
        "    Q1 = data[column].quantile(0.25)\n",
        "    Q3 = data[column].quantile(0.75)\n",
        "    IQR = Q3 - Q1\n",
        "    lower_bound = Q1 - 1.5 * IQR\n",
        "    upper_bound = Q3 + 1.5 * IQR\n",
        "    data[column] = np.where(data[column] < lower_bound, lower_bound, data[column])\n",
        "    data[column] = np.where(data[column] > upper_bound, upper_bound, data[column])\n",
        "\n",
        "# Apply the IQR method to handle outliers for CPM, CPC, and CTR\n",
        "handle_outliers_iqr(df, 'CPM')\n",
        "handle_outliers_iqr(df, 'CPC')\n",
        "handle_outliers_iqr(df, 'CTR')\n"
      ],
      "metadata": {
        "id": "Uutf-u2MI2A0"
      },
      "execution_count": null,
      "outputs": []
    },
    {
      "cell_type": "code",
      "source": [
        "# Define a function to handle outliers using Z-Score method\n",
        "from scipy import stats\n",
        "\n",
        "def handle_outliers_zscore(data, column, threshold=3):\n",
        "    z_scores = np.abs(stats.zscore(data[column]))\n",
        "    data[column] = np.where(z_scores > threshold, data[column].mean(), data[column])\n",
        "\n",
        "# Apply the Z-Score method to handle outliers for CPM, CPC, and CTR\n",
        "handle_outliers_zscore(df, 'CPM')\n",
        "handle_outliers_zscore(df, 'CPC')\n",
        "handle_outliers_zscore(df, 'CTR')"
      ],
      "metadata": {
        "id": "ynrPOHbXh6Zw"
      },
      "execution_count": null,
      "outputs": []
    },
    {
      "cell_type": "markdown",
      "source": [
        "### Question 4:  Perform z-score scaling and discuss how it affects the speed of the algorithm."
      ],
      "metadata": {
        "id": "aYid-cZxK441"
      }
    },
    {
      "cell_type": "code",
      "source": [
        "selected_columns = ['CPM', 'CPC', 'CTR']\n",
        "\n",
        "# Create a subset of the data with the selected columns\n",
        "data_subset = df[selected_columns]\n",
        "\n",
        "# Initialize the StandardScaler\n",
        "scaler = StandardScaler()\n",
        "\n",
        "# Fit and transform the data to perform z-score scaling\n",
        "scaled_data = scaler.fit_transform(data_subset)\n",
        "\n",
        "# Initialize and fit the K-Means clustering algorithm\n",
        "kmeans = KMeans(n_clusters=3, random_state=0)  # You can choose the number of clusters you need\n",
        "kmeans.fit(scaled_data)\n",
        "\n",
        "# Add the cluster labels to the original DataFrame\n",
        "df['Cluster'] = kmeans.labels_\n",
        "\n",
        "# Now 'df' contains the cluster labels for each data point after z-score scaling\n",
        "\n",
        "# You can analyze the results of the clustering, and the speed of the algorithm may vary based on your data and the number of clusters chosen."
      ],
      "metadata": {
        "colab": {
          "base_uri": "https://localhost:8080/"
        },
        "id": "z9xjFWJvLET7",
        "outputId": "407787e6-0865-4140-e9fb-be4b17dcad53"
      },
      "execution_count": null,
      "outputs": [
        {
          "output_type": "stream",
          "name": "stderr",
          "text": [
            "/usr/local/lib/python3.10/dist-packages/sklearn/cluster/_kmeans.py:870: FutureWarning: The default value of `n_init` will change from 10 to 'auto' in 1.4. Set the value of `n_init` explicitly to suppress the warning\n",
            "  warnings.warn(\n"
          ]
        }
      ]
    },
    {
      "cell_type": "markdown",
      "source": [
        "## Question 5:  Perform Hierarchical by constructing a Dendrogram using WARD and Euclidean distance."
      ],
      "metadata": {
        "id": "aslNpepXipro"
      }
    },
    {
      "cell_type": "code",
      "source": [
        "# Calculate the linkage matrix using Ward linkage and Euclidean distance\n",
        "linkage_matrix = linkage(data_subset, method='ward', metric='euclidean')\n",
        "\n",
        "# Construct the dendrogram\n",
        "plt.figure(figsize=(12, 6))\n",
        "# Construct the dendrogram with truncation\n",
        "dendrogram(linkage_matrix, orientation=\"top\", labels=data_subset.index, distance_sort='descending', truncate_mode='lastp', p=12)\n",
        "plt.title('Hierarchical Clustering Dendrogram (Ward linkage, Euclidean distance)')\n",
        "plt.xlabel('Data Points')\n",
        "plt.ylabel('Distance')\n",
        "plt.show()"
      ],
      "metadata": {
        "colab": {
          "base_uri": "https://localhost:8080/",
          "height": 568
        },
        "id": "k5-jeKYWizCa",
        "outputId": "dca092e3-6874-4820-b264-b900fe1f3039"
      },
      "execution_count": null,
      "outputs": [
        {
          "output_type": "display_data",
          "data": {
            "text/plain": [
              "<Figure size 1200x600 with 1 Axes>"
            ],
            "image/png": "[encoded data removed]"
          },
          "metadata": {}
        }
      ]
    },
    {
      "cell_type": "markdown",
      "source": [
        "## Question 6:  Make Elbow plot (up to n=10) and identify optimum number of clusters for k-means algorithm."
      ],
      "metadata": {
        "id": "WjHOFvsZjpOT"
      }
    },
    {
      "cell_type": "code",
      "source": [
        "# Initialize a list to store the within-cluster sum of squares (WCSS)\n",
        "wcss = []\n",
        "\n",
        "# Calculate WCSS for a range of cluster numbers (1 to 10)\n",
        "for i in range(1, 11):\n",
        "    kmeans = KMeans(n_clusters=i, random_state=0)\n",
        "    kmeans.fit(data_subset)\n",
        "    wcss.append(kmeans.inertia_)\n",
        "\n",
        "# Plot the elbow plot\n",
        "plt.figure(figsize=(8, 4))\n",
        "plt.plot(range(1, 11), wcss, marker='o', linestyle='-')\n",
        "plt.title('Elbow Plot for K-Means Clustering')\n",
        "plt.xlabel('Number of Clusters')\n",
        "plt.ylabel('Within-Cluster Sum of Squares (WCSS)')\n",
        "plt.grid()\n",
        "plt.show()"
      ],
      "metadata": {
        "colab": {
          "base_uri": "https://localhost:8080/",
          "height": 777
        },
        "id": "w4ohKvdPjuGm",
        "outputId": "96d592cc-492d-43a7-ee84-ff4aa393dbb9"
      },
      "execution_count": null,
      "outputs": [
        {
          "output_type": "stream",
          "name": "stderr",
          "text": [
            "/usr/local/lib/python3.10/dist-packages/sklearn/cluster/_kmeans.py:870: FutureWarning: The default value of `n_init` will change from 10 to 'auto' in 1.4. Set the value of `n_init` explicitly to suppress the warning\n",
            "  warnings.warn(\n",
            "/usr/local/lib/python3.10/dist-packages/sklearn/cluster/_kmeans.py:870: FutureWarning: The default value of `n_init` will change from 10 to 'auto' in 1.4. Set the value of `n_init` explicitly to suppress the warning\n",
            "  warnings.warn(\n",
            "/usr/local/lib/python3.10/dist-packages/sklearn/cluster/_kmeans.py:870: FutureWarning: The default value of `n_init` will change from 10 to 'auto' in 1.4. Set the value of `n_init` explicitly to suppress the warning\n",
            "  warnings.warn(\n",
            "/usr/local/lib/python3.10/dist-packages/sklearn/cluster/_kmeans.py:870: FutureWarning: The default value of `n_init` will change from 10 to 'auto' in 1.4. Set the value of `n_init` explicitly to suppress the warning\n",
            "  warnings.warn(\n",
            "/usr/local/lib/python3.10/dist-packages/sklearn/cluster/_kmeans.py:870: FutureWarning: The default value of `n_init` will change from 10 to 'auto' in 1.4. Set the value of `n_init` explicitly to suppress the warning\n",
            "  warnings.warn(\n",
            "/usr/local/lib/python3.10/dist-packages/sklearn/cluster/_kmeans.py:870: FutureWarning: The default value of `n_init` will change from 10 to 'auto' in 1.4. Set the value of `n_init` explicitly to suppress the warning\n",
            "  warnings.warn(\n",
            "/usr/local/lib/python3.10/dist-packages/sklearn/cluster/_kmeans.py:870: FutureWarning: The default value of `n_init` will change from 10 to 'auto' in 1.4. Set the value of `n_init` explicitly to suppress the warning\n",
            "  warnings.warn(\n",
            "/usr/local/lib/python3.10/dist-packages/sklearn/cluster/_kmeans.py:870: FutureWarning: The default value of `n_init` will change from 10 to 'auto' in 1.4. Set the value of `n_init` explicitly to suppress the warning\n",
            "  warnings.warn(\n",
            "/usr/local/lib/python3.10/dist-packages/sklearn/cluster/_kmeans.py:870: FutureWarning: The default value of `n_init` will change from 10 to 'auto' in 1.4. Set the value of `n_init` explicitly to suppress the warning\n",
            "  warnings.warn(\n",
            "/usr/local/lib/python3.10/dist-packages/sklearn/cluster/_kmeans.py:870: FutureWarning: The default value of `n_init` will change from 10 to 'auto' in 1.4. Set the value of `n_init` explicitly to suppress the warning\n",
            "  warnings.warn(\n"
          ]
        },
        {
          "output_type": "display_data",
          "data": {
            "text/plain": [
              "<Figure size 800x400 with 1 Axes>"
            ],
            "image/png": "[encoded data removed]"
          },
          "metadata": {}
        }
      ]
    },
    {
      "cell_type": "markdown",
      "source": [
        "## Question 7: Print silhouette scores for up to 10 clusters and identify optimum number of clusters.  "
      ],
      "metadata": {
        "id": "x2DvPr8Nj0-A"
      }
    },
    {
      "cell_type": "code",
      "source": [
        "# Initialize a list to store silhouette scores\n",
        "silhouette_scores = []\n",
        "\n",
        "# Calculate silhouette scores for a range of cluster numbers (2 to 10)\n",
        "for n_clusters in range(2, 11):\n",
        "    kmeans = KMeans(n_clusters=n_clusters, random_state=0)\n",
        "    cluster_labels = kmeans.fit_predict(data_subset)\n",
        "    silhouette_avg = silhouette_score(data_subset, cluster_labels)\n",
        "    silhouette_scores.append(silhouette_avg)\n",
        "\n",
        "# Print the silhouette scores\n",
        "for n_clusters, silhouette in zip(range(2, 11), silhouette_scores):\n",
        "    print(f\"Silhouette Score for {n_clusters} Clusters: {silhouette}\")\n",
        "\n",
        "# Find the cluster number with the highest silhouette score\n",
        "optimal_cluster_count = silhouette_scores.index(max(silhouette_scores)) + 2  # +2 because we started from 2 clusters\n",
        "print(f\"Optimal Number of Clusters: {optimal_cluster_count}\")"
      ],
      "metadata": {
        "colab": {
          "base_uri": "https://localhost:8080/"
        },
        "id": "zNWmkKVmj-2a",
        "outputId": "b8acd94e-19ef-4c18-93e6-79c903a5a5f6"
      },
      "execution_count": null,
      "outputs": [
        {
          "output_type": "stream",
          "name": "stderr",
          "text": [
            "/usr/local/lib/python3.10/dist-packages/sklearn/cluster/_kmeans.py:870: FutureWarning: The default value of `n_init` will change from 10 to 'auto' in 1.4. Set the value of `n_init` explicitly to suppress the warning\n",
            "  warnings.warn(\n",
            "/usr/local/lib/python3.10/dist-packages/sklearn/cluster/_kmeans.py:870: FutureWarning: The default value of `n_init` will change from 10 to 'auto' in 1.4. Set the value of `n_init` explicitly to suppress the warning\n",
            "  warnings.warn(\n",
            "/usr/local/lib/python3.10/dist-packages/sklearn/cluster/_kmeans.py:870: FutureWarning: The default value of `n_init` will change from 10 to 'auto' in 1.4. Set the value of `n_init` explicitly to suppress the warning\n",
            "  warnings.warn(\n",
            "/usr/local/lib/python3.10/dist-packages/sklearn/cluster/_kmeans.py:870: FutureWarning: The default value of `n_init` will change from 10 to 'auto' in 1.4. Set the value of `n_init` explicitly to suppress the warning\n",
            "  warnings.warn(\n",
            "/usr/local/lib/python3.10/dist-packages/sklearn/cluster/_kmeans.py:870: FutureWarning: The default value of `n_init` will change from 10 to 'auto' in 1.4. Set the value of `n_init` explicitly to suppress the warning\n",
            "  warnings.warn(\n",
            "/usr/local/lib/python3.10/dist-packages/sklearn/cluster/_kmeans.py:870: FutureWarning: The default value of `n_init` will change from 10 to 'auto' in 1.4. Set the value of `n_init` explicitly to suppress the warning\n",
            "  warnings.warn(\n",
            "/usr/local/lib/python3.10/dist-packages/sklearn/cluster/_kmeans.py:870: FutureWarning: The default value of `n_init` will change from 10 to 'auto' in 1.4. Set the value of `n_init` explicitly to suppress the warning\n",
            "  warnings.warn(\n",
            "/usr/local/lib/python3.10/dist-packages/sklearn/cluster/_kmeans.py:870: FutureWarning: The default value of `n_init` will change from 10 to 'auto' in 1.4. Set the value of `n_init` explicitly to suppress the warning\n",
            "  warnings.warn(\n",
            "/usr/local/lib/python3.10/dist-packages/sklearn/cluster/_kmeans.py:870: FutureWarning: The default value of `n_init` will change from 10 to 'auto' in 1.4. Set the value of `n_init` explicitly to suppress the warning\n",
            "  warnings.warn(\n"
          ]
        },
        {
          "output_type": "stream",
          "name": "stdout",
          "text": [
            "Silhouette Score for 2 Clusters: 0.6766250909529208\n",
            "Silhouette Score for 3 Clusters: 0.7379956470895805\n",
            "Silhouette Score for 4 Clusters: 0.7567788565266148\n",
            "Silhouette Score for 5 Clusters: 0.7560254228586302\n",
            "Silhouette Score for 6 Clusters: 0.7569159923183797\n",
            "Silhouette Score for 7 Clusters: 0.7530882506862077\n",
            "Silhouette Score for 8 Clusters: 0.7514915624832238\n",
            "Silhouette Score for 9 Clusters: 0.5576534043028654\n",
            "Silhouette Score for 10 Clusters: 0.5567991544351915\n",
            "Optimal Number of Clusters: 6\n"
          ]
        }
      ]
    },
    {
      "cell_type": "markdown",
      "source": [
        " ## Question 8: Profile the ads based on optimum number of clusters using silhouette score and your domain understanding [Hint: Group the data by clusters and take sum or mean to identify trends in Clicks, spend, revenue, CPM, CTR, & CPC based on Device Type. Make bar plots]."
      ],
      "metadata": {
        "id": "YJk1rY5TkbXj"
      }
    },
    {
      "cell_type": "code",
      "source": [
        "# Select the columns you want to use for clustering (e.g., CPM, CPC, CTR, Device Type)\n",
        "selected_columns = ['CPM', 'CPC', 'CTR', 'Device Type', 'Clicks', 'Spend', 'Revenue']\n",
        "\n",
        "# Create a subset of the data with the selected columns\n",
        "data_subset = df[selected_columns]\n",
        "\n",
        "# Use the optimal cluster count identified from the silhouette score analysis\n",
        "optimal_cluster_count = 3  # Replace with the actual optimal cluster count\n",
        "\n",
        "# Initialize and fit the K-Means clustering algorithm with the optimal cluster count\n",
        "kmeans = KMeans(n_clusters=optimal_cluster_count, random_state=0)\n",
        "data_subset['Cluster'] = kmeans.fit_predict(data_subset[['CPM', 'CPC', 'CTR']])\n",
        "\n",
        "# Group the data by clusters and Device Type, and calculate the mean or sum of the selected columns\n",
        "cluster_profile = data_subset.groupby(['Cluster', 'Device Type']).agg({\n",
        "    'Clicks': 'sum',\n",
        "    'Spend': 'sum',\n",
        "    'Revenue': 'sum',\n",
        "    'CPM': 'mean',\n",
        "    'CTR': 'mean',\n",
        "    'CPC': 'mean'\n",
        "}).reset_index()\n",
        "\n",
        "# Create bar plots to visualize the trends\n",
        "for metric in ['Clicks', 'Spend', 'Revenue', 'CPM', 'CTR', 'CPC']:\n",
        "    plt.figure(figsize=(10, 6))\n",
        "    sns.barplot(x='Cluster', y=metric, hue='Device Type', data=cluster_profile)\n",
        "    plt.title(f'{metric} by Cluster and Device Type')\n",
        "    plt.xlabel('Cluster')\n",
        "    plt.ylabel(metric)\n",
        "    plt.show()"
      ],
      "metadata": {
        "colab": {
          "base_uri": "https://localhost:8080/",
          "height": 1000
        },
        "id": "G8Dp1lmZkeye",
        "outputId": "844d9bc4-5df0-4972-dcdb-6604f13c6096"
      },
      "execution_count": null,
      "outputs": [
        {
          "output_type": "stream",
          "name": "stderr",
          "text": [
            "/usr/local/lib/python3.10/dist-packages/sklearn/cluster/_kmeans.py:870: FutureWarning: The default value of `n_init` will change from 10 to 'auto' in 1.4. Set the value of `n_init` explicitly to suppress the warning\n",
            "  warnings.warn(\n",
            "<ipython-input-53-ae7986d96dcf>:12: SettingWithCopyWarning: \n",
            "A value is trying to be set on a copy of a slice from a DataFrame.\n",
            "Try using .loc[row_indexer,col_indexer] = value instead\n",
            "\n",
            "See the caveats in the documentation: https://pandas.pydata.org/pandas-docs/stable/user_guide/indexing.html#returning-a-view-versus-a-copy\n",
            "  data_subset['Cluster'] = kmeans.fit_predict(data_subset[['CPM', 'CPC', 'CTR']])\n"
          ]
        },
        {
          "output_type": "display_data",
          "data": {
            "text/plain": [
              "<Figure size 1000x600 with 1 Axes>"
            ],
            "image/png": "[encoded data removed]"
          },
          "metadata": {}
        },
        {
          "output_type": "display_data",
          "data": {
            "text/plain": [
              "<Figure size 1000x600 with 1 Axes>"
            ],
            "image/png": "[encoded data removed]"
          },
          "metadata": {}
        },
        {
          "output_type": "display_data",
          "data": {
            "text/plain": [
              "<Figure size 1000x600 with 1 Axes>"
            ],
            "image/png": "[encoded data removed]"
          },
          "metadata": {}
        },
        {
          "output_type": "display_data",
          "data": {
            "text/plain": [
              "<Figure size 1000x600 with 1 Axes>"
            ],
            "image/png": "[encoded data removed]"
          },
          "metadata": {}
        },
        {
          "output_type": "display_data",
          "data": {
            "text/plain": [
              "<Figure size 1000x600 with 1 Axes>"
            ],
            "image/png": "[encoded data removed]"
          },
          "metadata": {}
        },
        {
          "output_type": "display_data",
          "data": {
            "text/plain": [
              "<Figure size 1000x600 with 1 Axes>"
            ],
            "image/png": "[encoded data removed]"
          },
          "metadata": {}
        }
      ]
    },
    {
      "cell_type": "markdown",
      "source": [
        "## Question 9: Conclude the project by providing summary of your learnings."
      ],
      "metadata": {
        "id": "Zn-w4pTkkfC_"
      }
    },
    {
      "cell_type": "markdown",
      "source": [
        "**Introduction:** .In this project, we worked with the dataset clustering clean ads and performed various data analysis and clustering tasks. Here's a summary of our key learnings and findings:\n",
        "\n",
        "1. **Data Exploration and Preprocessing:**\n",
        "   - We started by loading the dataset and conducting basic data exploration.\n",
        "   - We identified the features available in the dataset, checked for missing values, and reviewed summary statistics.\n",
        "   - We learned that the dataset contains advertising data with features such as CPC, CTR, and CPM.\n",
        "2. **Outlier Analysis:**\n",
        "   - We explored whether the dataset contains outliers using boxplots and statistical methods.\n",
        "   - We discussed the potential impact of outliers on clustering and made a decision not to treat outliers based on the analysis.\n",
        "3. **Principal Component Analysis (PCA):**\n",
        "   - We applied PCA to understand the variance explained by Principal Components (PCs).\n",
        "   - We identified which PC explained the most variance in the dataset and learned how to write a linear equation for the most influential PC.\n",
        "4. **Hierarchical Clustering:**\n",
        "   - We performed hierarchical clustering using Ward linkage and Euclidean distance.\n",
        "   - We constructed a dendrogram to visualize the hierarchical structure of the data.\n",
        "5. **Scaling and Clustering:**\n",
        "   - We discussed how scaling, specifically Z-score scaling, affects the speed of clustering algorithms like K-Means.\n",
        "   - We learned that scaling can improve convergence speed, numerical stability, and distance metric consistency.\n",
        "6. **Business Insights:**\n",
        "   - We provided a business report based on the hierarchical clustering results.\n",
        "   - We discussed the interpretation of clusters, cluster characteristics, and the potential business impact of the analysis.\n",
        "\n",
        "**Key Takeaways:**\n",
        "\n",
        "- Understanding your data is crucial before applying clustering techniques.\n",
        "- Feature scaling can impact the performance and stability of clustering algorithms.\n",
        "- Outlier treatment decisions should be made based on the specific analysis goals and domain knowledge.\n",
        "- Principal Component Analysis (PCA) can help in dimensionality reduction and understanding the most influential features.\n",
        "- Hierarchical clustering provides insights into hierarchical relationships within data.\n",
        "- Clustering results can inform business strategies, targeting, and decision-making.\n",
        "\n",
        "1. **Ad Profiling:**\n",
        "\n",
        "   - Profiled ads based on clustering results to identify distinct ad segments.\n",
        "   - Gained domain-specific insights into the characteristics of each ad cluster.\n",
        "   - Made recommendations for tailored marketing strategies, content optimization, and resource allocation based on ad profiling.\n",
        "\n",
        "2. **Business Implications:**\n",
        "\n",
        "   - Recognized the business implications of clustering and profiling, including customer segmentation, product categorization, resource allocation, and anomaly detection.\n",
        "   - Emphasized the importance of data-driven decision-making in marketing and advertising.\n",
        "\n",
        "   ##### The project has yielded valuable insights into data preprocessing, clustering, and ad profiling, highlighting the significance of data-driven decision-making in business applications. The use of clustering techniques, including hierarchical clustering and K-Means, has provided a structured approach to segmenting data for informed marketing strategies."
      ],
      "metadata": {
        "id": "yI5YtBo2lNI9"
      }
    },
    {
      "cell_type": "markdown",
      "source": [
        "\n",
        "# Part 2\n"
      ],
      "metadata": {
        "id": "NMVDORFNlNl9"
      }
    },
    {
      "cell_type": "markdown",
      "source": [
        "### Primary census abstract for female headed households excluding institutional households (India & States/UTs - District Level), Scheduled tribes - 2011 PCA for Female Headed Household Excluding Institutional Household. The Indian Census has the reputation of being one of the best in the world. The first Census in India was conducted in the year 1872. This was conducted at different points of time in different parts of the country. In 1881 a Census was taken for the entire country simultaneously. Since then, Census has been conducted every ten years, without a break. Thus, the Census of India 2011 was the fifteenth in this unbroken series since 1872, the seventh after independence and the second census of the third millennium and twenty first century. The census has been uninterruptedly continued despite of several adversities like wars, epidemics, natural calamities, political unrest, etc. The Census of India is conducted under the provisions of the Census Act 1948 and the Census Rules, 1990. The Primary Census Abstract which is important publication of 2011 Census gives basic information on Area, Total Number of Households, Total Population, Scheduled Castes, Scheduled Tribes Population, Population in the age group 0-6, Literates, Main Workers and Marginal Workers classified by the four broad industrial categories, namely, (i) Cultivators, (ii) Agricultural Laborers, (iii) Household Industry Workers, and (iv) Other Workers and also Non-Workers. The characteristics of the Total Population include Scheduled Castes, Scheduled Tribes, Institutional and Houseless Population and are presented by sex and rural-urban residence. Census 2011 covered 35 States/Union Territories, 640 districts, 5,924 sub-districts, 7,935 Towns and 6,40,867 Villages. The data collected has so many variables thus making it difficult to find useful details without using Data Science Techniques. You are tasked to perform detailed EDA and identify Optimum Principal Components that explains the most variance in data. Use Sklearn only."
      ],
      "metadata": {
        "id": "Jxlrqy_QKobV"
      }
    },
    {
      "cell_type": "markdown",
      "source": [
        "\n",
        "### Question 1 :- Read the data and perform basic checks like checking head, info, summary, nulls, and duplicates, etc"
      ],
      "metadata": {
        "id": "dmrxxRc3Kv0u"
      }
    },
    {
      "cell_type": "code",
      "source": [
        "data = pd.read_excel('/content/PCA India Data_Census.xlsx')\n",
        "print(data.head())\n",
        "print(data.info())\n",
        "print(data.isnull().sum())\n",
        "print(data.duplicated().sum())\n",
        "print(data.describe())"
      ],
      "metadata": {
        "colab": {
          "base_uri": "https://localhost:8080/"
        },
        "id": "VUNSgI34lm2J",
        "outputId": "bcda4aa6-1d24-4a3f-e17e-e82280337735"
      },
      "execution_count": null,
      "outputs": [
        {
          "output_type": "stream",
          "name": "stdout",
          "text": [
            "   State Code  Dist.Code            State    Area Name  No_HH  TOT_M  TOT_F  \\\n",
            "0           1          1  Jammu & Kashmir      Kupwara   7707  23388  29796   \n",
            "1           1          2  Jammu & Kashmir       Badgam   6218  19585  23102   \n",
            "2           1          3  Jammu & Kashmir  Leh(Ladakh)   4452   6546  10964   \n",
            "3           1          4  Jammu & Kashmir       Kargil   1320   2784   4206   \n",
            "4           1          5  Jammu & Kashmir        Punch  11654  20591  29981   \n",
            "\n",
            "   M_06  F_06  M_SC  ...  MARG_CL_0_3_M  MARG_CL_0_3_F  MARG_AL_0_3_M  \\\n",
            "0  5862  6196     3  ...           1150            749            180   \n",
            "1  4482  3733     7  ...            525            715            123   \n",
            "2  1082  1018     3  ...            114            188             44   \n",
            "3   563   677     0  ...            194            247             61   \n",
            "4  5157  4587    20  ...            874           1928            465   \n",
            "\n",
            "   MARG_AL_0_3_F  MARG_HH_0_3_M  MARG_HH_0_3_F  MARG_OT_0_3_M  MARG_OT_0_3_F  \\\n",
            "0            237            680            252             32             46   \n",
            "1            229            186            148             76            178   \n",
            "2             89              3             34              0              4   \n",
            "3            128             13             50              4             10   \n",
            "4           1043            205            302             24            105   \n",
            "\n",
            "   NON_WORK_M  NON_WORK_F  \n",
            "0         258         214  \n",
            "1         140         160  \n",
            "2          67          61  \n",
            "3         116          59  \n",
            "4         180         478  \n",
            "\n",
            "[5 rows x 61 columns]\n",
            "<class 'pandas.core.frame.DataFrame'>\n",
            "RangeIndex: 640 entries, 0 to 639\n",
            "Data columns (total 61 columns):\n",
            " #   Column          Non-Null Count  Dtype \n",
            "---  ------          --------------  ----- \n",
            " 0   State Code      640 non-null    int64 \n",
            " 1   Dist.Code       640 non-null    int64 \n",
            " 2   State           640 non-null    object\n",
            " 3   Area Name       640 non-null    object\n",
            " 4   No_HH           640 non-null    int64 \n",
            " 5   TOT_M           640 non-null    int64 \n",
            " 6   TOT_F           640 non-null    int64 \n",
            " 7   M_06            640 non-null    int64 \n",
            " 8   F_06            640 non-null    int64 \n",
            " 9   M_SC            640 non-null    int64 \n",
            " 10  F_SC            640 non-null    int64 \n",
            " 11  M_ST            640 non-null    int64 \n",
            " 12  F_ST            640 non-null    int64 \n",
            " 13  M_LIT           640 non-null    int64 \n",
            " 14  F_LIT           640 non-null    int64 \n",
            " 15  M_ILL           640 non-null    int64 \n",
            " 16  F_ILL           640 non-null    int64 \n",
            " 17  TOT_WORK_M      640 non-null    int64 \n",
            " 18  TOT_WORK_F      640 non-null    int64 \n",
            " 19  MAINWORK_M      640 non-null    int64 \n",
            " 20  MAINWORK_F      640 non-null    int64 \n",
            " 21  MAIN_CL_M       640 non-null    int64 \n",
            " 22  MAIN_CL_F       640 non-null    int64 \n",
            " 23  MAIN_AL_M       640 non-null    int64 \n",
            " 24  MAIN_AL_F       640 non-null    int64 \n",
            " 25  MAIN_HH_M       640 non-null    int64 \n",
            " 26  MAIN_HH_F       640 non-null    int64 \n",
            " 27  MAIN_OT_M       640 non-null    int64 \n",
            " 28  MAIN_OT_F       640 non-null    int64 \n",
            " 29  MARGWORK_M      640 non-null    int64 \n",
            " 30  MARGWORK_F      640 non-null    int64 \n",
            " 31  MARG_CL_M       640 non-null    int64 \n",
            " 32  MARG_CL_F       640 non-null    int64 \n",
            " 33  MARG_AL_M       640 non-null    int64 \n",
            " 34  MARG_AL_F       640 non-null    int64 \n",
            " 35  MARG_HH_M       640 non-null    int64 \n",
            " 36  MARG_HH_F       640 non-null    int64 \n",
            " 37  MARG_OT_M       640 non-null    int64 \n",
            " 38  MARG_OT_F       640 non-null    int64 \n",
            " 39  MARGWORK_3_6_M  640 non-null    int64 \n",
            " 40  MARGWORK_3_6_F  640 non-null    int64 \n",
            " 41  MARG_CL_3_6_M   640 non-null    int64 \n",
            " 42  MARG_CL_3_6_F   640 non-null    int64 \n",
            " 43  MARG_AL_3_6_M   640 non-null    int64 \n",
            " 44  MARG_AL_3_6_F   640 non-null    int64 \n",
            " 45  MARG_HH_3_6_M   640 non-null    int64 \n",
            " 46  MARG_HH_3_6_F   640 non-null    int64 \n",
            " 47  MARG_OT_3_6_M   640 non-null    int64 \n",
            " 48  MARG_OT_3_6_F   640 non-null    int64 \n",
            " 49  MARGWORK_0_3_M  640 non-null    int64 \n",
            " 50  MARGWORK_0_3_F  640 non-null    int64 \n",
            " 51  MARG_CL_0_3_M   640 non-null    int64 \n",
            " 52  MARG_CL_0_3_F   640 non-null    int64 \n",
            " 53  MARG_AL_0_3_M   640 non-null    int64 \n",
            " 54  MARG_AL_0_3_F   640 non-null    int64 \n",
            " 55  MARG_HH_0_3_M   640 non-null    int64 \n",
            " 56  MARG_HH_0_3_F   640 non-null    int64 \n",
            " 57  MARG_OT_0_3_M   640 non-null    int64 \n",
            " 58  MARG_OT_0_3_F   640 non-null    int64 \n",
            " 59  NON_WORK_M      640 non-null    int64 \n",
            " 60  NON_WORK_F      640 non-null    int64 \n",
            "dtypes: int64(59), object(2)\n",
            "memory usage: 305.1+ KB\n",
            "None\n",
            "State Code       0\n",
            "Dist.Code        0\n",
            "State            0\n",
            "Area Name        0\n",
            "No_HH            0\n",
            "                ..\n",
            "MARG_HH_0_3_F    0\n",
            "MARG_OT_0_3_M    0\n",
            "MARG_OT_0_3_F    0\n",
            "NON_WORK_M       0\n",
            "NON_WORK_F       0\n",
            "Length: 61, dtype: int64\n",
            "0\n",
            "       State Code   Dist.Code          No_HH          TOT_M          TOT_F  \\\n",
            "count  640.000000  640.000000     640.000000     640.000000     640.000000   \n",
            "mean    17.114062  320.500000   51222.871875   79940.576563  122372.084375   \n",
            "std      9.426486  184.896367   48135.405475   73384.511114  113600.717282   \n",
            "min      1.000000    1.000000     350.000000     391.000000     698.000000   \n",
            "25%      9.000000  160.750000   19484.000000   30228.000000   46517.750000   \n",
            "50%     18.000000  320.500000   35837.000000   58339.000000   87724.500000   \n",
            "75%     24.000000  480.250000   68892.000000  107918.500000  164251.750000   \n",
            "max     35.000000  640.000000  310450.000000  485417.000000  750392.000000   \n",
            "\n",
            "               M_06          F_06           M_SC           F_SC          M_ST  \\\n",
            "count    640.000000    640.000000     640.000000     640.000000    640.000000   \n",
            "mean   12309.098438  11942.300000   13820.946875   20778.392188   6191.807813   \n",
            "std    11500.906881  11326.294567   14426.373130   21727.887713   9912.668948   \n",
            "min       56.000000     56.000000       0.000000       0.000000      0.000000   \n",
            "25%     4733.750000   4672.250000    3466.250000    5603.250000    293.750000   \n",
            "50%     9159.000000   8663.000000    9591.500000   13709.000000   2333.500000   \n",
            "75%    16520.250000  15902.250000   19429.750000   29180.000000   7658.000000   \n",
            "max    96223.000000  95129.000000  103307.000000  156429.000000  96785.000000   \n",
            "\n",
            "       ...  MARG_CL_0_3_M  MARG_CL_0_3_F  MARG_AL_0_3_M  MARG_AL_0_3_F  \\\n",
            "count  ...     640.000000     640.000000     640.000000     640.000000   \n",
            "mean   ...    1392.973438    2757.050000     250.889062     558.098438   \n",
            "std    ...    1489.707052    2788.776676     453.336594    1117.642748   \n",
            "min    ...       4.000000      30.000000       0.000000       0.000000   \n",
            "25%    ...     489.500000     957.250000      47.000000     109.000000   \n",
            "50%    ...     949.000000    1928.000000     114.500000     247.500000   \n",
            "75%    ...    1714.000000    3599.750000     270.750000     568.750000   \n",
            "max    ...    9875.000000   21611.000000    5775.000000   17153.000000   \n",
            "\n",
            "       MARG_HH_0_3_M  MARG_HH_0_3_F  MARG_OT_0_3_M  MARG_OT_0_3_F  \\\n",
            "count     640.000000     640.000000     640.000000     640.000000   \n",
            "mean      560.690625    1293.431250      71.379688     200.742188   \n",
            "std       762.578991    1585.377936     107.897627     309.740854   \n",
            "min         0.000000       0.000000       0.000000       0.000000   \n",
            "25%       136.500000     298.000000      14.000000      43.000000   \n",
            "50%       308.000000     717.000000      35.000000     113.000000   \n",
            "75%       642.000000    1710.750000      79.000000     240.000000   \n",
            "max      6116.000000   13714.000000     895.000000    3354.000000   \n",
            "\n",
            "        NON_WORK_M    NON_WORK_F  \n",
            "count   640.000000    640.000000  \n",
            "mean    510.014063    704.778125  \n",
            "std     610.603187    910.209225  \n",
            "min       0.000000      5.000000  \n",
            "25%     161.000000    220.500000  \n",
            "50%     326.000000    464.500000  \n",
            "75%     604.500000    853.500000  \n",
            "max    6456.000000  10533.000000  \n",
            "\n",
            "[8 rows x 59 columns]\n"
          ]
        }
      ]
    },
    {
      "cell_type": "markdown",
      "source": [
        "## Question 2: Perform detailed Exploratory analysis by creating certain questions like\n",
        "\n",
        "### (i) Which state has highest gender ratio and which has the lowest? (ii) Which district has the highest & lowest gender ratio? (Example Questions). Pick 5 variables out of the given 24 variables below for EDA: No_HH, TOT_M, TOT_F, M_06, F_06, M_SC, F_SC, M_ST, F_ST, M_LIT, F_LIT, M_ILL, F_ILL, TOT_WORK_M, TOT_WORK_F, MAINWORK_M, MAINWORK_F, MAIN_CL_M, MAIN_CL_F, MAIN_AL_M, MAIN_AL_F, MAIN_HH_M, MAIN_HH_F, MAIN_OT_M, MAIN_OT_F\n"
      ],
      "metadata": {
        "id": "_j2JfHO8onSJ"
      }
    },
    {
      "cell_type": "code",
      "source": [
        "state_gender_ratio = (data['TOT_M'] / data['TOT_F']).groupby(data['State']).mean()\n",
        "highest_state_gender_ratio = state_gender_ratio.idxmax()\n",
        "lowest_state_gender_ratio = state_gender_ratio.idxmin()\n",
        "print(f\"(i) Which state has the highest gender ratio: {highest_state_gender_ratio}\")\n",
        "print(f\"    Gender Ratio: {state_gender_ratio[highest_state_gender_ratio]}\")\n",
        "print(f\"    Which state has the lowest gender ratio: {lowest_state_gender_ratio}\")\n",
        "print(f\"    Gender Ratio: {state_gender_ratio[lowest_state_gender_ratio]}\")\n",
        "district_gender_ratio = (data['TOT_M'] / data['TOT_F']).groupby([data['Area Name']]).mean()\n",
        "highest_district_gender_ratio = district_gender_ratio.idxmax()\n",
        "lowest_district_gender_ratio = district_gender_ratio.idxmin()\n",
        "print(\"\\n(ii) Which district has the highest gender ratio:\")\n",
        "print(f\"    Area Name: {highest_district_gender_ratio}\")\n",
        "print(f\"    Gender Ratio: {district_gender_ratio[highest_district_gender_ratio]}\")\n",
        "print(f\"    Which district has the lowest gender ratio:\")\n",
        "print(f\"    Area Name: {lowest_district_gender_ratio}\")\n",
        "print(f\"    Gender Ratio: {district_gender_ratio[lowest_district_gender_ratio]}\")"
      ],
      "metadata": {
        "colab": {
          "base_uri": "https://localhost:8080/"
        },
        "id": "R1113vgEooph",
        "outputId": "59ae6b31-839c-42cb-95ff-cb4bf5a28edf"
      },
      "execution_count": null,
      "outputs": [
        {
          "output_type": "stream",
          "name": "stdout",
          "text": [
            "(i) Which state has the highest gender ratio: Lakshadweep\n",
            "    Gender Ratio: 0.8680611968589222\n",
            "    Which state has the lowest gender ratio: Andhra Pradesh\n",
            "    Gender Ratio: 0.5349406873640874\n",
            "\n",
            "(ii) Which district has the highest gender ratio:\n",
            "    Area Name: Lakshadweep\n",
            "    Gender Ratio: 0.8680611968589222\n",
            "    Which district has the lowest gender ratio:\n",
            "    Area Name: Krishna\n",
            "    Gender Ratio: 0.4379722581179062\n"
          ]
        }
      ]
    },
    {
      "cell_type": "markdown",
      "source": [
        "### From the above output, Lakshadweep has the highest gender ratio Andhra Pradesh has the lowest gender ratio. Lakshadweep is again the district with highest gender ratio and Krishna is the district which as the lowest gender Ratio."
      ],
      "metadata": {
        "id": "odpnVRO8LZXq"
      }
    },
    {
      "cell_type": "markdown",
      "source": [
        "##Question 3:- We choose not to treat outliers for this case. Do you think that treating outliers for this case is necessary?\n"
      ],
      "metadata": {
        "id": "xugbzWNFldwN"
      }
    },
    {
      "cell_type": "markdown",
      "source": [
        "### The decision to treat outliers in a PCA analysis depends on the nature of the data and the goals of the analysis. In general, PCA is sensitive to outliers because it seeks to maximize the variance in the data. Outliers can disproportionately influence the principal components and affect the interpretation of the results. If the outliers are not representative of the underlying structure of the data, it might be advisable to treat them.\n",
        "\n",
        "### If the outliers in the data are meaningful or reflect important characteristics of the data, it may not be necessary to remove them. It's essential to consider the context and domain knowledge when deciding whether to treat outliers in PCA.\n",
        "### However, if outliers are causing issues or if their presence is due to data errors, you might consider outlier treatment methods such as winsorization, trimming, or using robust statistical techniques.\n",
        "### Ultimately, the decision should be driven by a deep understanding of the data, the context of the analysis, and the specific goals you aim to achieve."
      ],
      "metadata": {
        "id": "12FjMX8TsTvJ"
      }
    },
    {
      "cell_type": "markdown",
      "source": [
        "###Question 4:- Does scaling have any impact on outliers? Compare boxplots before and after scaling and comment."
      ],
      "metadata": {
        "id": "ny9EB1eHsZet"
      }
    },
    {
      "cell_type": "code",
      "source": [
        "from sklearn.preprocessing import StandardScaler\n",
        "import matplotlib.pyplot as plt\n",
        "import seaborn as sns\n",
        "\n",
        "# Select only the numeric columns for scaling\n",
        "numeric_data = data.select_dtypes(include=[np.number])\n",
        "\n",
        "# Create a StandardScaler instance\n",
        "scaler = StandardScaler()\n",
        "\n",
        "# Fit and transform the numeric data using z-score scaling\n",
        "scaled_data = scaler.fit_transform(numeric_data)\n",
        "\n",
        "# Create subplots for before and after scaling\n",
        "plt.figure(figsize=(12, 6))\n",
        "plt.subplot(1, 2, 1)\n",
        "sns.boxplot(data=numeric_data)\n",
        "plt.title(\"Boxplots Before Scaling\")\n",
        "\n",
        "plt.subplot(1, 2, 2)\n",
        "sns.boxplot(data=scaled_data)\n",
        "plt.title(\"Boxplots After Scaling\")\n",
        "\n",
        "plt.show()\n"
      ],
      "metadata": {
        "colab": {
          "base_uri": "https://localhost:8080/",
          "height": 545
        },
        "id": "7Kpw3vlmsb58",
        "outputId": "ab686bf7-de91-42f9-8de0-c01d2d76a189"
      },
      "execution_count": null,
      "outputs": [
        {
          "output_type": "display_data",
          "data": {
            "text/plain": [
              "<Figure size 1200x600 with 2 Axes>"
            ],
            "image/png": "[encoded data removed]"
          },
          "metadata": {}
        }
      ]
    },
    {
      "cell_type": "markdown",
      "source": [
        "### Scaling doesn't remove or change the presence of outliers but helps standardize the data, making it easier to compare and visualize outliers across different variables. It ensures that outliers are represented consistently and can be analyzed more effectively in relation to the rest of the data."
      ],
      "metadata": {
        "id": "4x_OWkbYLskt"
      }
    },
    {
      "cell_type": "markdown",
      "source": [
        "###Question 5:- Perform all the required steps for PCA (use sklearn only) Create the covariance Matrix Get eigen values and eigen vector.\n"
      ],
      "metadata": {
        "id": "_RmC8nx1s7iR"
      }
    },
    {
      "cell_type": "code",
      "source": [
        "from sklearn.decomposition import PCA\n",
        "\n",
        "# Create a PCA instance with the desired number of components\n",
        "pca = PCA(n_components=None)  # You can specify the number of components if needed\n",
        "\n",
        "# Fit the PCA model to the scaled data\n",
        "pca.fit(scaled_data)\n",
        "\n",
        "# Get the covariance matrix\n",
        "covariance_matrix = pca.get_covariance()\n",
        "\n",
        "# Get eigenvalues and eigenvectors\n",
        "eigenvalues = pca.explained_variance_\n",
        "eigenvectors = pca.components_\n",
        "\n",
        "# Display the eigenvalues and eigenvectors\n",
        "print(\"Eigenvalues:\")\n",
        "print(eigenvalues)\n",
        "print(\"\\nEigenvectors:\")\n",
        "print(eigenvectors)\n"
      ],
      "metadata": {
        "colab": {
          "base_uri": "https://localhost:8080/"
        },
        "id": "pt_LTnf7s_0I",
        "outputId": "38ac268c-61d5-42f2-df5a-c853a31e3aa3"
      },
      "execution_count": null,
      "outputs": [
        {
          "output_type": "stream",
          "name": "stdout",
          "text": [
            "Eigenvalues:\n",
            "[3.18674263e+01 8.18907061e+00 4.54275124e+00 3.84336785e+00\n",
            " 2.27105793e+00 1.95992589e+00 1.37548006e+00 8.87342674e-01\n",
            " 7.19897963e-01 6.14059555e-01 4.94399686e-01 4.24147991e-01\n",
            " 3.43932360e-01 2.96118628e-01 2.75961760e-01 1.84995268e-01\n",
            " 1.28846861e-01 1.11536962e-01 1.03594789e-01 9.73429345e-02\n",
            " 7.82132546e-02 5.59614544e-02 4.44214277e-02 3.78654873e-02\n",
            " 2.96705436e-02 2.70572400e-02 2.34417688e-02 1.43611558e-02\n",
            " 1.10964929e-02 9.28775833e-03 8.27176626e-03 7.61344489e-03\n",
            " 5.02300148e-03 4.49943614e-03 2.51573519e-03 1.06257176e-03\n",
            " 7.11882677e-04 6.28474170e-30 4.49845175e-31 1.84932149e-31\n",
            " 1.64432752e-31 1.64432752e-31 1.64432752e-31 1.64432752e-31\n",
            " 1.64432752e-31 1.64432752e-31 1.64432752e-31 1.64432752e-31\n",
            " 1.64432752e-31 1.64432752e-31 1.64432752e-31 1.64432752e-31\n",
            " 1.64432752e-31 1.64432752e-31 1.64432752e-31 1.64432752e-31\n",
            " 1.64432752e-31 1.64432752e-31 6.01054125e-32]\n",
            "\n",
            "Eigenvectors:\n",
            "[[ 3.00700521e-02  3.00751392e-02  1.56432451e-01 ...  1.31868671e-01\n",
            "   1.50219557e-01  1.31179136e-01]\n",
            " [-1.62782525e-01 -1.58821825e-01 -1.28322211e-01 ...  5.40694563e-02\n",
            "  -5.44095594e-02 -6.94741471e-02]\n",
            " [-2.50129023e-01 -2.59359844e-01 -3.34978669e-02 ... -1.83333910e-03\n",
            "   1.28955424e-01  8.67015734e-02]\n",
            " ...\n",
            " [ 0.00000000e+00  6.95743363e-17  4.64518098e-16 ... -8.33557056e-02\n",
            "  -9.76962525e-02 -6.79676565e-02]\n",
            " [-0.00000000e+00 -1.62539778e-16 -1.24103492e-16 ... -1.73918967e-02\n",
            "  -1.35864844e-02 -4.72841703e-02]\n",
            " [-0.00000000e+00  8.34835673e-18  1.80174293e-15 ... -6.28129343e-03\n",
            "  -1.43288163e-01  2.23229472e-02]]\n"
          ]
        }
      ]
    },
    {
      "cell_type": "markdown",
      "source": [
        "We have performed required steps for PCA and we made an covariance Matrix to get the eigen values and eigen vector."
      ],
      "metadata": {
        "id": "MbEbAXsWL3fZ"
      }
    },
    {
      "cell_type": "markdown",
      "source": [
        "### Question6:-Identify the optimum number of PCs (for this project, take at least 90% explained variance). Show Scree plot."
      ],
      "metadata": {
        "id": "XB6-49hatB6i"
      }
    },
    {
      "cell_type": "code",
      "source": [
        "# Calculate the cumulative explained variance\n",
        "cumulative_variance = np.cumsum(eigenvalues) / np.sum(eigenvalues)\n",
        "\n",
        "# Create a scree plot\n",
        "plt.figure(figsize=(10, 6))\n",
        "plt.plot(range(1, len(cumulative_variance) + 1), cumulative_variance, marker='o', linestyle='--')\n",
        "plt.xlabel('Number of Principal Components')\n",
        "plt.ylabel('Cumulative Explained Variance')\n",
        "plt.title('Scree Plot')\n",
        "plt.grid(True)\n",
        "\n",
        "# Identify the number of PCs for at least 90% explained variance\n",
        "optimal_num_components = np.argmax(cumulative_variance >= 0.90) + 1\n",
        "\n",
        "# Highlight the point on the plot\n",
        "plt.axvline(x=optimal_num_components, color='red', linestyle='--')\n",
        "plt.annotate(f'{optimal_num_components} PCs', (optimal_num_components, cumulative_variance[optimal_num_components - 1]), xytext=(10, 0), textcoords='offset points', arrowprops=dict(arrowstyle='->', lw=1.5))\n",
        "\n",
        "plt.show()\n",
        "\n",
        "# Print the result\n",
        "print(f'The optimal number of Principal Components for at least 90% explained variance is: {optimal_num_components}')"
      ],
      "metadata": {
        "colab": {
          "base_uri": "https://localhost:8080/",
          "height": 581
        },
        "id": "JxRmG9WEtE3h",
        "outputId": "013504ce-1e3c-451e-a8bd-e42e17f19099"
      },
      "execution_count": null,
      "outputs": [
        {
          "output_type": "display_data",
          "data": {
            "text/plain": [
              "<Figure size 1000x600 with 1 Axes>"
            ],
            "image/png": "[encoded data removed]"
          },
          "metadata": {}
        },
        {
          "output_type": "stream",
          "name": "stdout",
          "text": [
            "The optimal number of Principal Components for at least 90% explained variance is: 7\n"
          ]
        }
      ]
    },
    {
      "cell_type": "markdown",
      "source": [
        "###Question 7:- Compare PCs with Actual Columns and identify which is explaining most variance. Write inferences about all the Principal components in terms of actual variables."
      ],
      "metadata": {
        "id": "kphBV2iOtMza"
      }
    },
    {
      "cell_type": "markdown",
      "source": [
        "### -> To compare Principal Components (PCs) with the actual columns and identify which PC explains the most variance in the dataset, you can perform Principal Component Analysis (PCA). PCA will help you understand the relationships between the original variables and the PCs.\n",
        "### -> Typically, the PC that explains the most variance is the one with the highest explained variance ratio."
      ],
      "metadata": {
        "id": "V4RrXJN4M6hE"
      }
    },
    {
      "cell_type": "code",
      "source": [
        "from sklearn.decomposition import PCA\n",
        "explained_variance = pca.explained_variance_ratio_\n",
        "loadings = pca.components_\n",
        "loadings_df = pd.DataFrame(loadings, columns=data.columns[:len(loadings[0])])\n",
        "most_influential_pc = loadings_df.idxmax(axis=0)\n",
        "explained_variance = pca.explained_variance_ratio_\n",
        "print(\"Most Influential PC for Each Original Variable:\")\n",
        "print(most_influential_pc)\n",
        "print(\"\\nExplained Variance by Each PC:\")\n",
        "print(explained_variance)"
      ],
      "metadata": {
        "colab": {
          "base_uri": "https://localhost:8080/"
        },
        "id": "6famM8wttQio",
        "outputId": "75dd3276-41d0-47b4-815f-de5ac66078c4"
      },
      "execution_count": null,
      "outputs": [
        {
          "output_type": "stream",
          "name": "stdout",
          "text": [
            "Most Influential PC for Each Original Variable:\n",
            "State Code        33\n",
            "Dist.Code          8\n",
            "State             34\n",
            "Area Name         53\n",
            "No_HH             58\n",
            "TOT_M             34\n",
            "TOT_F             36\n",
            "M_06              35\n",
            "F_06              10\n",
            "M_SC              30\n",
            "F_SC               6\n",
            "M_ST              54\n",
            "F_ST              53\n",
            "M_LIT             29\n",
            "F_LIT             23\n",
            "M_ILL             47\n",
            "F_ILL             57\n",
            "TOT_WORK_M        22\n",
            "TOT_WORK_F        38\n",
            "MAINWORK_M        15\n",
            "MAINWORK_F        12\n",
            "MAIN_CL_M         24\n",
            "MAIN_CL_F         12\n",
            "MAIN_AL_M         14\n",
            "MAIN_AL_F         13\n",
            "MAIN_HH_M         57\n",
            "MAIN_HH_F         11\n",
            "MAIN_OT_M         44\n",
            "MAIN_OT_F         37\n",
            "MARGWORK_M        40\n",
            "MARGWORK_F         3\n",
            "MARG_CL_M         46\n",
            "MARG_CL_F         14\n",
            "MARG_AL_M         26\n",
            "MARG_AL_F          5\n",
            "MARG_HH_M         56\n",
            "MARG_HH_F         53\n",
            "MARG_OT_M         32\n",
            "MARG_OT_F         35\n",
            "MARGWORK_3_6_M    42\n",
            "MARGWORK_3_6_F    47\n",
            "MARG_CL_3_6_M     39\n",
            "MARG_CL_3_6_F     43\n",
            "MARG_AL_3_6_M     50\n",
            "MARG_AL_3_6_F     45\n",
            "MARG_HH_3_6_M     26\n",
            "MARG_HH_3_6_F      5\n",
            "MARG_OT_3_6_M     51\n",
            "MARG_OT_3_6_F     52\n",
            "MARGWORK_0_3_M    58\n",
            "MARGWORK_0_3_F    44\n",
            "MARG_CL_0_3_M     22\n",
            "MARG_CL_0_3_F     18\n",
            "MARG_AL_0_3_M     32\n",
            "MARG_AL_0_3_F     21\n",
            "MARG_HH_0_3_M     28\n",
            "MARG_HH_0_3_F     27\n",
            "MARG_OT_0_3_M     19\n",
            "MARG_OT_0_3_F     16\n",
            "dtype: int64\n",
            "\n",
            "Explained Variance by Each PC:\n",
            "[5.39281923e-01 1.38580935e-01 7.68754779e-02 6.50400438e-02\n",
            " 3.84323628e-02 3.31671780e-02 2.32767944e-02 1.50162068e-02\n",
            " 1.21825953e-02 1.03915269e-02 8.36656248e-03 7.17771626e-03\n",
            " 5.82025365e-03 5.01111768e-03 4.67000966e-03 3.13061378e-03\n",
            " 2.18043284e-03 1.88750315e-03 1.75310038e-03 1.64730231e-03\n",
            " 1.32357706e-03 9.47017197e-04 7.51729139e-04 6.40785128e-04\n",
            " 5.02104803e-04 4.57880730e-04 3.96697306e-04 2.43029093e-04\n",
            " 1.87782283e-04 1.57173665e-04 1.39980367e-04 1.28839812e-04\n",
            " 8.50025939e-05 7.61424707e-05 4.25729552e-05 1.79815507e-05\n",
            " 1.20469553e-05 1.06354607e-31 7.61258122e-33 3.12954563e-33\n",
            " 2.78264111e-33 2.78264111e-33 2.78264111e-33 2.78264111e-33\n",
            " 2.78264111e-33 2.78264111e-33 2.78264111e-33 2.78264111e-33\n",
            " 2.78264111e-33 2.78264111e-33 2.78264111e-33 2.78264111e-33\n",
            " 2.78264111e-33 2.78264111e-33 2.78264111e-33 2.78264111e-33\n",
            " 2.78264111e-33 2.78264111e-33 1.01714403e-33]\n"
          ]
        }
      ]
    },
    {
      "cell_type": "code",
      "source": [],
      "metadata": {
        "id": "3Z66_GzvNPCI"
      },
      "execution_count": null,
      "outputs": []
    },
    {
      "cell_type": "code",
      "source": [
        "import numpy as np\n",
        "import pandas as pd\n",
        "from sklearn.decomposition import PCA\n",
        "path = \"/content/PCA India Data_Census.xlsx\"\n",
        "df = pd.read_excel(path)\n",
        "# Extract the numeric columns (excluding categorical variables)\n",
        "numeric_columns = df.select_dtypes(include=[np.number])\n",
        "# Perform PCA on the numeric columns\n",
        "pca = PCA()\n",
        "pca.fit(numeric_columns)\n",
        "# Get the explained variance by each PC\n",
        "explained_variance = pca.explained_variance_ratio_\n",
        "# Create a DataFrame to compare PCs with actual columns\n",
        "pca_results = pd.DataFrame({\n",
        "    'Principal Component (PC)': np.arange(1, len(explained_variance) + 1),\n",
        "    'Explained Variance': explained_variance,\n",
        "})\n",
        "# Sort the PCs by explained variance in descending order\n",
        "pca_results.sort_values(by='Explained Variance', ascending=False, inplace=True)\n",
        "print(\"Explained Variance by Each Principal Component:\")\n",
        "print(pca_results)\n",
        "# Get the loadings (components) of PC1 (the most influential PC)\n",
        "loadings_pc1 = pca.components_[0]\n",
        "linear_equation_pc1 = \"PC1 = \"\n",
        "for i, loading in enumerate(loadings_pc1):\n",
        "    variable_name = numeric_columns.columns[i]\n",
        "    if i > 0 and loading >= 0:\n",
        "        linear_equation_pc1 += \" + \"\n",
        "    elif i > 0 and loading < 0:\n",
        "        linear_equation_pc1 += \" - \"\n",
        "    linear_equation_pc1 += f\"{abs(loading):.3f} * {variable_name}\""
      ],
      "metadata": {
        "colab": {
          "base_uri": "https://localhost:8080/"
        },
        "id": "9l2rEztOten9",
        "outputId": "bb6dedef-3616-47c5-d6a4-1072954b6888"
      },
      "execution_count": null,
      "outputs": [
        {
          "output_type": "stream",
          "name": "stdout",
          "text": [
            "Explained Variance by Each Principal Component:\n",
            "    Principal Component (PC)  Explained Variance\n",
            "0                          1        9.166306e-01\n",
            "1                          2        3.161782e-02\n",
            "2                          3        2.640444e-02\n",
            "3                          4        7.655185e-03\n",
            "4                          5        5.876761e-03\n",
            "5                          6        3.243938e-03\n",
            "6                          7        2.718123e-03\n",
            "7                          8        1.992296e-03\n",
            "8                          9        1.270496e-03\n",
            "9                         10        6.499889e-04\n",
            "10                        11        5.131137e-04\n",
            "11                        12        2.845685e-04\n",
            "12                        13        2.694048e-04\n",
            "13                        14        2.219201e-04\n",
            "14                        15        1.918664e-04\n",
            "15                        16        1.529262e-04\n",
            "16                        17        1.077023e-04\n",
            "17                        18        5.035939e-05\n",
            "18                        19        3.960759e-05\n",
            "19                        20        2.634352e-05\n",
            "20                        21        2.329838e-05\n",
            "21                        22        1.771708e-05\n",
            "22                        23        1.170192e-05\n",
            "23                        24        8.375148e-06\n",
            "24                        25        7.754994e-06\n",
            "25                        26        4.282239e-06\n",
            "26                        27        2.860430e-06\n",
            "27                        28        2.290119e-06\n",
            "28                        29        1.734590e-06\n",
            "29                        30        1.348996e-06\n",
            "30                        31        3.892139e-07\n",
            "31                        32        2.882335e-07\n",
            "32                        33        2.186080e-07\n",
            "33                        34        1.763649e-07\n",
            "34                        35        7.674872e-08\n",
            "35                        36        1.134425e-08\n",
            "36                        37        1.719520e-11\n",
            "37                        38        2.215713e-32\n",
            "53                        54        7.335657e-33\n",
            "50                        51        7.335657e-33\n",
            "51                        52        7.335657e-33\n",
            "52                        53        7.335657e-33\n",
            "56                        57        7.335657e-33\n",
            "54                        55        7.335657e-33\n",
            "55                        56        7.335657e-33\n",
            "48                        49        7.335657e-33\n",
            "57                        58        7.335657e-33\n",
            "49                        50        7.335657e-33\n",
            "44                        45        7.335657e-33\n",
            "47                        48        7.335657e-33\n",
            "46                        47        7.335657e-33\n",
            "45                        46        7.335657e-33\n",
            "43                        44        7.335657e-33\n",
            "42                        43        7.335657e-33\n",
            "41                        42        7.335657e-33\n",
            "40                        41        7.335657e-33\n",
            "39                        40        7.335657e-33\n",
            "38                        39        7.335657e-33\n",
            "58                        59        3.396201e-33\n"
          ]
        }
      ]
    },
    {
      "cell_type": "markdown",
      "source": [
        "### In this output, the first value (9.166306e-01) represents the explained variance by the first PC.This is the highest value among all PCs, PC1 explains the most variance in your dataset.\n"
      ],
      "metadata": {
        "id": "LVBmK9hYNVzd"
      }
    },
    {
      "cell_type": "markdown",
      "source": [
        "###Question 8:- Write linear equation for first PC."
      ],
      "metadata": {
        "id": "o5U8U-Smun63"
      }
    },
    {
      "cell_type": "code",
      "source": [
        "# Extract loadings for the first PC\n",
        "coefficients = loadings_df.iloc[0]\n"
      ],
      "metadata": {
        "id": "8QmFNCTnumGu"
      },
      "execution_count": null,
      "outputs": []
    },
    {
      "cell_type": "code",
      "source": [
        "import numpy as np\n",
        "import pandas as pd\n",
        "import matplotlib.pyplot as plt\n",
        "import seaborn as sns\n",
        "from sklearn.decomposition import PCA\n",
        "path = \"/content/PCA India Data_Census.xlsx\"\n",
        "df = pd.read_excel(path)\n",
        "numeric_columns = df.select_dtypes(include=[np.number])\n",
        "pca = PCA()\n",
        "pca.fit(numeric_columns)\n",
        "# Get the loadings (components) of PC1\n",
        "loadings_pc1 = pca.components_[0]\n",
        "# Create a linear equation for PC1\n",
        "linear_equation_pc1 = \"PC1 = \"\n",
        "# Build the linear equation\n",
        "for i, loading in enumerate(loadings_pc1):\n",
        "    variable_name = numeric_columns.columns[i]\n",
        "    if i > 0 and loading >= 0:\n",
        "        linear_equation_pc1 += \" + \"\n",
        "    elif i > 0 and loading < 0:\n",
        "        linear_equation_pc1 += \" - \"\n",
        "    linear_equation_pc1 += f\"{abs(loading):.3f} * {variable_name}\"\n",
        "# Print the linear equation for PC1\n",
        "print(\"Linear Equation for PC1:\")\n",
        "print(linear_equation_pc1)"
      ],
      "metadata": {
        "colab": {
          "base_uri": "https://localhost:8080/"
        },
        "id": "3818RrRTNcEP",
        "outputId": "fd87a15e-9965-42ff-a3ba-165a15bf83dc"
      },
      "execution_count": null,
      "outputs": [
        {
          "output_type": "stream",
          "name": "stdout",
          "text": [
            "Linear Equation for PC1:\n",
            "PC1 = 0.000 * State Code + 0.000 * Dist.Code + 0.221 * No_HH + 0.346 * TOT_M + 0.541 * TOT_F + 0.050 * M_06 + 0.049 * F_06 + 0.057 * M_SC + 0.086 * F_SC + 0.005 * M_ST + 0.009 * F_ST + 0.264 * M_LIT + 0.344 * F_LIT + 0.081 * M_ILL + 0.197 * F_ILL + 0.169 * TOT_WORK_M + 0.152 * TOT_WORK_F + 0.142 * MAINWORK_M + 0.115 * MAINWORK_F + 0.011 * MAIN_CL_M + 0.009 * MAIN_CL_F + 0.018 * MAIN_AL_M + 0.027 * MAIN_AL_F + 0.004 * MAIN_HH_M + 0.007 * MAIN_HH_F + 0.109 * MAIN_OT_M + 0.072 * MAIN_OT_F + 0.027 * MARGWORK_M + 0.037 * MARGWORK_F + 0.002 * MARG_CL_M + 0.002 * MARG_CL_F + 0.009 * MARG_AL_M + 0.014 * MARG_AL_F + 0.001 * MARG_HH_M + 0.003 * MARG_HH_F + 0.015 * MARG_OT_M + 0.017 * MARG_OT_F + 0.176 * MARGWORK_3_6_M + 0.388 * MARGWORK_3_6_F + 0.022 * MARG_CL_3_6_M + 0.029 * MARG_CL_3_6_F + 0.001 * MARG_AL_3_6_M + 0.002 * MARG_AL_3_6_F + 0.007 * MARG_HH_3_6_M + 0.011 * MARG_HH_3_6_F + 0.001 * MARG_OT_3_6_M + 0.002 * MARG_OT_3_6_F + 0.013 * MARGWORK_0_3_M + 0.014 * MARGWORK_0_3_F + 0.005 * MARG_CL_0_3_M + 0.008 * MARG_CL_0_3_F + 0.000 * MARG_AL_0_3_M + 0.000 * MARG_AL_0_3_F + 0.002 * MARG_HH_0_3_M + 0.003 * MARG_HH_0_3_F + 0.000 * MARG_OT_0_3_M + 0.001 * MARG_OT_0_3_F + 0.002 * NON_WORK_M + 0.003 * NON_WORK_F\n"
          ]
        }
      ]
    },
    {
      "cell_type": "markdown",
      "source": [
        "### We got the linear equation for PC1"
      ],
      "metadata": {
        "id": "yz2U0jSnNgBt"
      }
    }
  ]
}